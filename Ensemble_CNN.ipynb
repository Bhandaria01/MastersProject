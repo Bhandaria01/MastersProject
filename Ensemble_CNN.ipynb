{
  "nbformat": 4,
  "nbformat_minor": 0,
  "metadata": {
    "colab": {
      "name": "Ensemble_CNN.ipynb",
      "provenance": [],
      "collapsed_sections": []
    },
    "kernelspec": {
      "name": "python3",
      "display_name": "Python 3"
    },
    "language_info": {
      "name": "python"
    },
    "accelerator": "GPU"
  },
  "cells": [
    {
      "cell_type": "code",
      "metadata": {
        "id": "u7AnN8KSvuj1"
      },
      "source": [
        "import pandas as pd\n",
        "import numpy as np\n",
        "import matplotlib.pyplot as plt\n",
        "from tensorflow.keras.preprocessing.image import ImageDataGenerator\n",
        "from tensorflow.keras.models import Sequential\n",
        "from tensorflow.keras.layers import Dense, Dropout, Flatten, Conv2D, MaxPool2D, BatchNormalization\n",
        "from tensorflow.keras.optimizers import Adam, RMSprop\n",
        "from tensorflow.keras.callbacks import EarlyStopping\n",
        "import tensorflow as tf\n",
        "from tensorflow.keras.callbacks import ModelCheckpoint\n",
        "import tensorflow_datasets as tfds\n",
        "from tensorflow.keras.applications.resnet50 import preprocess_input\n",
        "from tensorflow.keras.models import Sequential\n",
        "from tensorflow.keras.layers import Dense,Conv2D,Flatten,MaxPooling2D\n",
        "from tensorflow.keras.callbacks import EarlyStopping,ReduceLROnPlateau\n",
        "from tensorflow.keras.preprocessing.image import ImageDataGenerator\n",
        "from tensorflow.keras.models import Sequential\n",
        "from tensorflow.keras.layers import Dense, Dropout, Flatten, Conv2D, MaxPool2D, BatchNormalization, MaxPooling2D\n",
        "from tensorflow.keras.optimizers import Adam, RMSprop\n",
        "from tensorflow.keras.constraints import unit_norm\n",
        "from tensorflow.keras import regularizers\n",
        "import tensorflow as tf\n",
        "from tensorflow import keras\n",
        "from tensorflow.keras import layers\n",
        "    "
      ],
      "execution_count": null,
      "outputs": []
    },
    {
      "cell_type": "code",
      "metadata": {
        "colab": {
          "base_uri": "https://localhost:8080/"
        },
        "id": "32wLeHSW1FLf",
        "outputId": "b5b5919e-4b04-407f-ab3a-5b2a8e449a4e"
      },
      "source": [
        "from google.colab import drive\n",
        "drive.mount('/content/drive')"
      ],
      "execution_count": null,
      "outputs": [
        {
          "output_type": "stream",
          "text": [
            "Drive already mounted at /content/drive; to attempt to forcibly remount, call drive.mount(\"/content/drive\", force_remount=True).\n"
          ],
          "name": "stdout"
        }
      ]
    },
    {
      "cell_type": "code",
      "metadata": {
        "id": "F7OFnw0LV0Q6",
        "colab": {
          "base_uri": "https://localhost:8080/"
        },
        "outputId": "7af82c0e-fd05-4d31-a21f-865534aaf4a8"
      },
      "source": [
        "dataset = tf.keras.preprocessing.image_dataset_from_directory(\n",
        "    directory='/content/drive/MyDrive/SARS_COVID_DATASET',\n",
        "    labels=\"inferred\",\n",
        "    color_mode=\"grayscale\",\n",
        "    batch_size=16,\n",
        "    image_size=(500, 500),\n",
        "    shuffle=True,\n",
        "    seed=None,\n",
        ")"
      ],
      "execution_count": null,
      "outputs": [
        {
          "output_type": "stream",
          "text": [
            "Found 2491 files belonging to 2 classes.\n"
          ],
          "name": "stdout"
        }
      ]
    },
    {
      "cell_type": "code",
      "metadata": {
        "colab": {
          "base_uri": "https://localhost:8080/"
        },
        "id": "YfqgdK63GJC5",
        "outputId": "ed90a03c-2ecc-4739-bb82-1b1716cfac64"
      },
      "source": [
        "from tensorflow.keras.applications.xception import preprocess_input\n",
        "from tensorflow.keras.preprocessing.image import ImageDataGenerator\n",
        "\n",
        "ds_gen = ImageDataGenerator(\n",
        "    preprocessing_function=preprocess_input,\n",
        "    validation_split=0.3,\n",
        "    rotation_range = 0,\n",
        "    width_shift_range = 0,\n",
        "    height_shift_range = 0,\n",
        "    rescale = None,\n",
        "    shear_range = 0,\n",
        "    zoom_range = 0,\n",
        "    horizontal_flip = False,\n",
        "    fill_mode = 'nearest'\n",
        ")\n",
        "\n",
        "train_ds = ds_gen.flow_from_directory(\n",
        "  \"/content/drive/MyDrive/SARS_COVID_DATASET\", \n",
        "  seed=1,\n",
        "  target_size=(256, 256), #adjust to your needs\n",
        "  batch_size=32,#adjust to your needs\n",
        "  class_mode='categorical',\n",
        "  subset='training',\n",
        "  color_mode = \"rgb\",\n",
        "  shuffle = True\n",
        ")\n",
        "\n",
        "val_ds = ds_gen.flow_from_directory(\n",
        "  \"/content/drive/MyDrive/SARS_COVID_DATASET\",\n",
        "  seed=1,\n",
        "  target_size=(256, 256),\n",
        "  batch_size=32,\n",
        "  class_mode='categorical',\n",
        "  subset='validation',\n",
        "  color_mode = \"rgb\",\n",
        "  shuffle = True\n",
        ")\n",
        "test_ds = ds_gen.flow_from_directory(\n",
        "  \"/content/drive/MyDrive/SARS_COVID_DATASET\",\n",
        "  seed=1,\n",
        "  target_size=(256, 256),\n",
        "  batch_size=32,\n",
        "  class_mode='categorical',\n",
        "  subset='validation',\n",
        "  color_mode = \"rgb\",\n",
        "  shuffle = True\n",
        ")"
      ],
      "execution_count": null,
      "outputs": [
        {
          "output_type": "stream",
          "text": [
            "Found 1745 images belonging to 2 classes.\n",
            "Found 746 images belonging to 2 classes.\n",
            "Found 746 images belonging to 2 classes.\n"
          ],
          "name": "stdout"
        }
      ]
    },
    {
      "cell_type": "code",
      "metadata": {
        "id": "o-WAVvHR1FWT"
      },
      "source": [
        ""
      ],
      "execution_count": null,
      "outputs": []
    },
    {
      "cell_type": "markdown",
      "metadata": {
        "id": "S5FaG38p2pIi"
      },
      "source": [
        "Ensemble"
      ]
    },
    {
      "cell_type": "code",
      "metadata": {
        "id": "S27zaUNujvDz"
      },
      "source": [
        ""
      ],
      "execution_count": null,
      "outputs": []
    },
    {
      "cell_type": "code",
      "metadata": {
        "id": "bepBF4o11FZS"
      },
      "source": [
        "#layer 1 of cnn:\n",
        "nets = 8\n",
        "model = [0] *nets\n",
        "for j in range(nets):\n",
        "    #layer 1 of cnn:\n",
        "    model[j] = keras.Sequential()\n",
        "    model[j].add(Conv2D(32, kernel_size = 3,kernel_initializer='he_normal',activation='relu', input_shape = (256, 256, 3),kernel_regularizer=regularizers.l2(l=0.01)))\n",
        "    model[j].add(MaxPooling2D((2, 2)))# Hidden Layer 2\n",
        "    model[j].add(Conv2D(32, kernel_size = 5, activation='relu',kernel_constraint=unit_norm()))\n",
        "    model[j].add(BatchNormalization())\n",
        "    model[j].add(MaxPooling2D((2, 2)))# Hidden Layer 2\n",
        "    model[j].add(Conv2D(32, kernel_size = 3, strides=2, padding='same', activation='relu', kernel_regularizer=regularizers.l2(l=0.01)))\n",
        "    model[j].add(BatchNormalization())\n",
        "    model[j].add(Dropout(0.6))\n",
        "\n",
        "    #Second Layer of CNN\n",
        "    model[j].add(Conv2D(64, kernel_size = 3,kernel_constraint=unit_norm() ,activation='relu'))\n",
        "    #    model[j].add(BatchNormalization())\n",
        "    model[j].add(MaxPooling2D((2, 2)))# Hidden Layer 2\n",
        "    model[j].add(Conv2D(64, kernel_size = 3, activation='relu', kernel_regularizer=regularizers.l2(l=0.01)))\n",
        "    model[j].add(Dropout(0.4))\n",
        "    model[j].add(BatchNormalization())\n",
        "    model[j].add(Conv2D(64, kernel_size = 5, strides=2, padding='same', activation='relu'))\n",
        "    model[j].add(BatchNormalization())\n",
        "    model[j].add(Dropout(0.6))\n",
        "\n",
        "    #Third layer of CNN\n",
        "    model[j].add(Conv2D(128, kernel_size = 4, activation='relu', kernel_regularizer=regularizers.l2(l=0.01)))\n",
        "    model[j].add(Dropout(0.5))\n",
        "    model[j].add(MaxPooling2D((2, 2)))# Hidden Layer 2\n",
        "    model[j].add(BatchNormalization())\n",
        "    model[j].add(Flatten())\n",
        "    model[j].add(Dropout(0.5))\n",
        "\n",
        "    #Output layer\n",
        "    model[j].add(Dense(2, activation='softmax'))\n",
        "\n",
        "    # Compile each model\n",
        "    model[j].compile(optimizer='adam', loss=\"binary_crossentropy\", metrics=[\"accuracy\"])"
      ],
      "execution_count": null,
      "outputs": []
    },
    {
      "cell_type": "code",
      "metadata": {
        "id": "JRW40AzC60c9"
      },
      "source": [
        "early = EarlyStopping(monitor='val_loss', mode='min', patience=2,restore_best_weights=True)\n",
        "learning_rate_reduction = ReduceLROnPlateau(monitor='val_loss', patience = 1, verbose=1,factor=0.3, min_lr=0.00000001)\n",
        "callbacks_list = [ early, learning_rate_reduction]"
      ],
      "execution_count": null,
      "outputs": []
    },
    {
      "cell_type": "code",
      "metadata": {
        "colab": {
          "base_uri": "https://localhost:8080/"
        },
        "id": "wka_s2L161vQ",
        "outputId": "f6cfe85b-fe84-459e-8634-fbfca350a143"
      },
      "source": [
        "from sklearn.utils.class_weight import compute_class_weight\n",
        "weights = compute_class_weight('balanced', np.unique(train_ds.classes), train_ds.classes)\n",
        "cw = dict(zip( np.unique(train_ds.classes), weights))\n",
        "print(cw)"
      ],
      "execution_count": null,
      "outputs": [
        {
          "output_type": "stream",
          "text": [
            "{0: 0.9869909502262444, 1: 1.01335656213705}\n"
          ],
          "name": "stdout"
        }
      ]
    },
    {
      "cell_type": "code",
      "metadata": {
        "colab": {
          "base_uri": "https://localhost:8080/"
        },
        "id": "0BZTfLvJ7wIG",
        "outputId": "9859b93b-084a-41ad-f41d-ace404102b1d"
      },
      "source": [
        "for j in range(nets):\n",
        "    print(f'Individual Net : {j+1}')\n",
        "    model[j].fit(train_ds,epochs=10, validation_data=val_ds, callbacks=callbacks_list,class_weight=cw)"
      ],
      "execution_count": null,
      "outputs": [
        {
          "output_type": "stream",
          "text": [
            "Individual Net : 1\n",
            "Epoch 1/10\n",
            "55/55 [==============================] - 20s 336ms/step - loss: 3.3554 - accuracy: 0.6166 - val_loss: 3.0163 - val_accuracy: 0.6059\n",
            "Epoch 2/10\n",
            "55/55 [==============================] - 18s 331ms/step - loss: 2.9723 - accuracy: 0.7427 - val_loss: 2.8666 - val_accuracy: 0.6568\n",
            "Epoch 3/10\n",
            "55/55 [==============================] - 18s 331ms/step - loss: 2.6493 - accuracy: 0.8097 - val_loss: 2.9291 - val_accuracy: 0.5308\n",
            "\n",
            "Epoch 00003: ReduceLROnPlateau reducing learning rate to 0.0003000000142492354.\n",
            "Epoch 4/10\n",
            "55/55 [==============================] - 18s 328ms/step - loss: 2.4360 - accuracy: 0.8436 - val_loss: 2.8071 - val_accuracy: 0.5724\n",
            "Epoch 5/10\n",
            "55/55 [==============================] - 18s 329ms/step - loss: 2.3315 - accuracy: 0.8527 - val_loss: 2.7172 - val_accuracy: 0.5737\n",
            "Epoch 6/10\n",
            "55/55 [==============================] - 18s 326ms/step - loss: 2.2469 - accuracy: 0.8619 - val_loss: 2.8342 - val_accuracy: 0.5094\n",
            "\n",
            "Epoch 00006: ReduceLROnPlateau reducing learning rate to 9.000000427477062e-05.\n",
            "Epoch 7/10\n",
            "55/55 [==============================] - 18s 327ms/step - loss: 2.1842 - accuracy: 0.8585 - val_loss: 2.7804 - val_accuracy: 0.5375\n",
            "\n",
            "Epoch 00007: ReduceLROnPlateau reducing learning rate to 2.700000040931627e-05.\n",
            "Individual Net : 2\n",
            "Epoch 1/10\n",
            "55/55 [==============================] - 20s 336ms/step - loss: 3.2538 - accuracy: 0.6401 - val_loss: 3.4786 - val_accuracy: 0.5067\n",
            "Epoch 2/10\n",
            "55/55 [==============================] - 18s 330ms/step - loss: 2.7522 - accuracy: 0.8103 - val_loss: 2.7508 - val_accuracy: 0.6729\n",
            "Epoch 3/10\n",
            "55/55 [==============================] - 18s 328ms/step - loss: 2.4330 - accuracy: 0.8556 - val_loss: 2.7270 - val_accuracy: 0.5764\n",
            "Epoch 4/10\n",
            "55/55 [==============================] - 18s 333ms/step - loss: 2.1765 - accuracy: 0.8734 - val_loss: 2.3734 - val_accuracy: 0.6903\n",
            "Epoch 5/10\n",
            "55/55 [==============================] - 18s 328ms/step - loss: 1.9379 - accuracy: 0.8883 - val_loss: 2.3562 - val_accuracy: 0.6005\n",
            "Epoch 6/10\n",
            "55/55 [==============================] - 18s 326ms/step - loss: 1.7508 - accuracy: 0.9003 - val_loss: 2.0440 - val_accuracy: 0.7051\n",
            "Epoch 7/10\n",
            "55/55 [==============================] - 18s 329ms/step - loss: 1.5781 - accuracy: 0.9060 - val_loss: 1.8013 - val_accuracy: 0.7105\n",
            "Epoch 8/10\n",
            "55/55 [==============================] - 18s 328ms/step - loss: 1.4358 - accuracy: 0.9089 - val_loss: 1.6158 - val_accuracy: 0.8056\n",
            "Epoch 9/10\n",
            "55/55 [==============================] - 18s 324ms/step - loss: 1.3341 - accuracy: 0.9043 - val_loss: 1.5515 - val_accuracy: 0.7842\n",
            "Epoch 10/10\n",
            "55/55 [==============================] - 18s 328ms/step - loss: 1.2076 - accuracy: 0.9232 - val_loss: 2.2135 - val_accuracy: 0.5067\n",
            "\n",
            "Epoch 00010: ReduceLROnPlateau reducing learning rate to 0.0003000000142492354.\n",
            "Individual Net : 3\n",
            "Epoch 1/10\n",
            "55/55 [==============================] - 20s 332ms/step - loss: 3.2988 - accuracy: 0.6258 - val_loss: 3.0024 - val_accuracy: 0.5429\n",
            "Epoch 2/10\n",
            "55/55 [==============================] - 18s 324ms/step - loss: 2.8302 - accuracy: 0.7650 - val_loss: 2.8707 - val_accuracy: 0.5174\n",
            "Epoch 3/10\n",
            "55/55 [==============================] - 18s 334ms/step - loss: 2.4817 - accuracy: 0.8470 - val_loss: 2.7295 - val_accuracy: 0.6233\n",
            "Epoch 4/10\n",
            "55/55 [==============================] - 18s 332ms/step - loss: 2.2178 - accuracy: 0.8665 - val_loss: 2.5874 - val_accuracy: 0.5134\n",
            "Epoch 5/10\n",
            "55/55 [==============================] - 18s 331ms/step - loss: 1.9594 - accuracy: 0.8814 - val_loss: 2.2182 - val_accuracy: 0.7279\n",
            "Epoch 6/10\n",
            "55/55 [==============================] - 18s 329ms/step - loss: 1.7691 - accuracy: 0.8934 - val_loss: 1.9858 - val_accuracy: 0.6515\n",
            "Epoch 7/10\n",
            "55/55 [==============================] - 18s 328ms/step - loss: 1.5944 - accuracy: 0.8911 - val_loss: 1.7343 - val_accuracy: 0.7681\n",
            "Epoch 8/10\n",
            "55/55 [==============================] - 18s 330ms/step - loss: 1.4424 - accuracy: 0.9043 - val_loss: 1.6559 - val_accuracy: 0.7453\n",
            "Epoch 9/10\n",
            "55/55 [==============================] - 18s 336ms/step - loss: 1.3127 - accuracy: 0.9066 - val_loss: 1.4985 - val_accuracy: 0.7306\n",
            "Epoch 10/10\n",
            "55/55 [==============================] - 18s 337ms/step - loss: 1.2127 - accuracy: 0.9020 - val_loss: 1.3330 - val_accuracy: 0.8016\n",
            "Individual Net : 4\n",
            "Epoch 1/10\n",
            "55/55 [==============================] - 20s 347ms/step - loss: 3.3179 - accuracy: 0.5926 - val_loss: 3.2292 - val_accuracy: 0.5067\n",
            "Epoch 2/10\n",
            "55/55 [==============================] - 24s 432ms/step - loss: 2.8957 - accuracy: 0.7524 - val_loss: 2.8854 - val_accuracy: 0.5938\n",
            "Epoch 3/10\n",
            "55/55 [==============================] - 19s 346ms/step - loss: 2.6072 - accuracy: 0.8011 - val_loss: 2.6198 - val_accuracy: 0.6488\n",
            "Epoch 4/10\n",
            "55/55 [==============================] - 19s 344ms/step - loss: 2.3372 - accuracy: 0.8309 - val_loss: 2.5302 - val_accuracy: 0.5938\n",
            "Epoch 5/10\n",
            "55/55 [==============================] - 19s 341ms/step - loss: 2.0962 - accuracy: 0.8711 - val_loss: 2.5717 - val_accuracy: 0.5067\n",
            "\n",
            "Epoch 00005: ReduceLROnPlateau reducing learning rate to 0.0003000000142492354.\n",
            "Epoch 6/10\n",
            "55/55 [==============================] - 19s 341ms/step - loss: 1.9391 - accuracy: 0.8705 - val_loss: 2.1995 - val_accuracy: 0.5965\n",
            "Epoch 7/10\n",
            "55/55 [==============================] - 19s 340ms/step - loss: 1.8624 - accuracy: 0.8980 - val_loss: 2.1975 - val_accuracy: 0.5201\n",
            "Epoch 8/10\n",
            "55/55 [==============================] - 19s 337ms/step - loss: 1.8024 - accuracy: 0.8917 - val_loss: 2.1517 - val_accuracy: 0.5228\n",
            "Epoch 9/10\n",
            "55/55 [==============================] - 18s 334ms/step - loss: 1.7374 - accuracy: 0.8951 - val_loss: 2.2546 - val_accuracy: 0.5067\n",
            "\n",
            "Epoch 00009: ReduceLROnPlateau reducing learning rate to 9.000000427477062e-05.\n",
            "Epoch 10/10\n",
            "55/55 [==============================] - 18s 333ms/step - loss: 1.6715 - accuracy: 0.9037 - val_loss: 2.1456 - val_accuracy: 0.5147\n",
            "Individual Net : 5\n",
            "Epoch 1/10\n",
            "55/55 [==============================] - 20s 344ms/step - loss: 3.2588 - accuracy: 0.5782 - val_loss: 2.8726 - val_accuracy: 0.6689\n",
            "Epoch 2/10\n",
            "55/55 [==============================] - 19s 341ms/step - loss: 2.8186 - accuracy: 0.7238 - val_loss: 2.9539 - val_accuracy: 0.5322\n",
            "\n",
            "Epoch 00002: ReduceLROnPlateau reducing learning rate to 0.0003000000142492354.\n",
            "Epoch 3/10\n",
            "55/55 [==============================] - 19s 345ms/step - loss: 2.5227 - accuracy: 0.8212 - val_loss: 2.6584 - val_accuracy: 0.6528\n",
            "Epoch 4/10\n",
            "55/55 [==============================] - 19s 345ms/step - loss: 2.3970 - accuracy: 0.8470 - val_loss: 2.5960 - val_accuracy: 0.6434\n",
            "Epoch 5/10\n",
            "55/55 [==============================] - 19s 338ms/step - loss: 2.2901 - accuracy: 0.8642 - val_loss: 2.4613 - val_accuracy: 0.7064\n",
            "Epoch 6/10\n",
            "55/55 [==============================] - 18s 334ms/step - loss: 2.1944 - accuracy: 0.8728 - val_loss: 2.3489 - val_accuracy: 0.7346\n",
            "Epoch 7/10\n",
            "55/55 [==============================] - 18s 332ms/step - loss: 2.1097 - accuracy: 0.8819 - val_loss: 2.2806 - val_accuracy: 0.7158\n",
            "Epoch 8/10\n",
            "55/55 [==============================] - 18s 332ms/step - loss: 2.0280 - accuracy: 0.8797 - val_loss: 2.2122 - val_accuracy: 0.7466\n",
            "Epoch 9/10\n",
            "55/55 [==============================] - 18s 332ms/step - loss: 1.9534 - accuracy: 0.8814 - val_loss: 2.1296 - val_accuracy: 0.7560\n",
            "Epoch 10/10\n",
            "55/55 [==============================] - 18s 331ms/step - loss: 1.8498 - accuracy: 0.9072 - val_loss: 2.0625 - val_accuracy: 0.7118\n",
            "Individual Net : 6\n",
            "Epoch 1/10\n",
            "55/55 [==============================] - 20s 342ms/step - loss: 3.2725 - accuracy: 0.6069 - val_loss: 3.4368 - val_accuracy: 0.5067\n",
            "Epoch 2/10\n",
            "55/55 [==============================] - 18s 330ms/step - loss: 2.8791 - accuracy: 0.7347 - val_loss: 2.8021 - val_accuracy: 0.5657\n",
            "Epoch 3/10\n",
            "55/55 [==============================] - 18s 332ms/step - loss: 2.5042 - accuracy: 0.8269 - val_loss: 2.5465 - val_accuracy: 0.6394\n",
            "Epoch 4/10\n",
            "55/55 [==============================] - 18s 335ms/step - loss: 2.2486 - accuracy: 0.8533 - val_loss: 2.3363 - val_accuracy: 0.7198\n",
            "Epoch 5/10\n",
            "55/55 [==============================] - 18s 330ms/step - loss: 1.9931 - accuracy: 0.8883 - val_loss: 2.0882 - val_accuracy: 0.7641\n",
            "Epoch 6/10\n",
            "55/55 [==============================] - 18s 330ms/step - loss: 1.7996 - accuracy: 0.8871 - val_loss: 1.9345 - val_accuracy: 0.7909\n",
            "Epoch 7/10\n",
            "55/55 [==============================] - 18s 335ms/step - loss: 1.6206 - accuracy: 0.8974 - val_loss: 2.1337 - val_accuracy: 0.5067\n",
            "\n",
            "Epoch 00007: ReduceLROnPlateau reducing learning rate to 0.0003000000142492354.\n",
            "Epoch 8/10\n",
            "55/55 [==============================] - 18s 334ms/step - loss: 1.4929 - accuracy: 0.9077 - val_loss: 1.8755 - val_accuracy: 0.5107\n",
            "Epoch 9/10\n",
            "55/55 [==============================] - 18s 333ms/step - loss: 1.4219 - accuracy: 0.9215 - val_loss: 1.8718 - val_accuracy: 0.5080\n",
            "Epoch 10/10\n",
            "55/55 [==============================] - 18s 334ms/step - loss: 1.3859 - accuracy: 0.9123 - val_loss: 1.8419 - val_accuracy: 0.5094\n",
            "Individual Net : 7\n",
            "Epoch 1/10\n",
            "55/55 [==============================] - 20s 348ms/step - loss: 3.3528 - accuracy: 0.6000 - val_loss: 2.9809 - val_accuracy: 0.6233\n",
            "Epoch 2/10\n",
            "55/55 [==============================] - 18s 336ms/step - loss: 2.9552 - accuracy: 0.7450 - val_loss: 2.8760 - val_accuracy: 0.5831\n",
            "Epoch 3/10\n",
            "55/55 [==============================] - 18s 332ms/step - loss: 2.5752 - accuracy: 0.8166 - val_loss: 2.6669 - val_accuracy: 0.5925\n",
            "Epoch 4/10\n",
            "55/55 [==============================] - 18s 336ms/step - loss: 2.3541 - accuracy: 0.8189 - val_loss: 2.4393 - val_accuracy: 0.6408\n",
            "Epoch 5/10\n",
            "55/55 [==============================] - 19s 337ms/step - loss: 2.0999 - accuracy: 0.8607 - val_loss: 2.2763 - val_accuracy: 0.6890\n",
            "Epoch 6/10\n",
            "55/55 [==============================] - 19s 336ms/step - loss: 1.9122 - accuracy: 0.8722 - val_loss: 1.9624 - val_accuracy: 0.7587\n",
            "Epoch 7/10\n",
            "55/55 [==============================] - 18s 331ms/step - loss: 1.7108 - accuracy: 0.8940 - val_loss: 1.8353 - val_accuracy: 0.7601\n",
            "Epoch 8/10\n",
            "55/55 [==============================] - 18s 329ms/step - loss: 1.5546 - accuracy: 0.9095 - val_loss: 1.8565 - val_accuracy: 0.5536\n",
            "\n",
            "Epoch 00008: ReduceLROnPlateau reducing learning rate to 0.0003000000142492354.\n",
            "Epoch 9/10\n",
            "55/55 [==============================] - 18s 327ms/step - loss: 1.4472 - accuracy: 0.9117 - val_loss: 1.6982 - val_accuracy: 0.7627\n",
            "Epoch 10/10\n",
            "55/55 [==============================] - 18s 330ms/step - loss: 1.3918 - accuracy: 0.9169 - val_loss: 1.6488 - val_accuracy: 0.7922\n",
            "Individual Net : 8\n",
            "Epoch 1/10\n",
            "55/55 [==============================] - 20s 335ms/step - loss: 3.2907 - accuracy: 0.5971 - val_loss: 2.9577 - val_accuracy: 0.7761\n",
            "Epoch 2/10\n",
            "55/55 [==============================] - 18s 331ms/step - loss: 2.8608 - accuracy: 0.7645 - val_loss: 2.7913 - val_accuracy: 0.5845\n",
            "Epoch 3/10\n",
            "55/55 [==============================] - 18s 334ms/step - loss: 2.5457 - accuracy: 0.8103 - val_loss: 2.5797 - val_accuracy: 0.6180\n",
            "Epoch 4/10\n",
            "55/55 [==============================] - 18s 334ms/step - loss: 2.2774 - accuracy: 0.8464 - val_loss: 2.4566 - val_accuracy: 0.6689\n",
            "Epoch 5/10\n",
            "55/55 [==============================] - 18s 335ms/step - loss: 2.0388 - accuracy: 0.8751 - val_loss: 2.2184 - val_accuracy: 0.6689\n",
            "Epoch 6/10\n",
            "55/55 [==============================] - 18s 333ms/step - loss: 1.8375 - accuracy: 0.8865 - val_loss: 2.0758 - val_accuracy: 0.6461\n",
            "Epoch 7/10\n",
            "55/55 [==============================] - 19s 337ms/step - loss: 1.6796 - accuracy: 0.8871 - val_loss: 1.9633 - val_accuracy: 0.6997\n",
            "Epoch 8/10\n",
            "55/55 [==============================] - 18s 335ms/step - loss: 1.5301 - accuracy: 0.8986 - val_loss: 1.6924 - val_accuracy: 0.7547\n",
            "Epoch 9/10\n",
            "55/55 [==============================] - 18s 332ms/step - loss: 1.3785 - accuracy: 0.9083 - val_loss: 1.5471 - val_accuracy: 0.8231\n",
            "Epoch 10/10\n",
            "55/55 [==============================] - 18s 332ms/step - loss: 1.2938 - accuracy: 0.9043 - val_loss: 1.4580 - val_accuracy: 0.8217\n"
          ],
          "name": "stdout"
        }
      ]
    },
    {
      "cell_type": "code",
      "metadata": {
        "id": "D18i2cXTvnLt"
      },
      "source": [
        "for j in range(nets):\n",
        "    model[j].save('ensemble_3.h5')"
      ],
      "execution_count": null,
      "outputs": []
    },
    {
      "cell_type": "code",
      "metadata": {
        "id": "0ZF1AgRUHhv9"
      },
      "source": [
        "import tensorflow as tensorflow\n",
        "model = tensorflow.keras.models.load_model('ensemble_3.h5')\n",
        "model.compile(loss = \"binary_crossentropy\", optimizer = 'adam', metrics = [\"accuracy\"])"
      ],
      "execution_count": null,
      "outputs": []
    },
    {
      "cell_type": "code",
      "metadata": {
        "colab": {
          "base_uri": "https://localhost:8080/"
        },
        "id": "QKqYmHlbAn8h",
        "outputId": "23da86c3-e1b9-4aed-9645-ddec0525494d"
      },
      "source": [
        "model.summary()"
      ],
      "execution_count": null,
      "outputs": [
        {
          "output_type": "stream",
          "text": [
            "Model: \"sequential_45\"\n",
            "_________________________________________________________________\n",
            "Layer (type)                 Output Shape              Param #   \n",
            "=================================================================\n",
            "conv2d_315 (Conv2D)          (None, 254, 254, 32)      896       \n",
            "_________________________________________________________________\n",
            "max_pooling2d_180 (MaxPoolin (None, 127, 127, 32)      0         \n",
            "_________________________________________________________________\n",
            "conv2d_316 (Conv2D)          (None, 123, 123, 32)      25632     \n",
            "_________________________________________________________________\n",
            "batch_normalization_225 (Bat (None, 123, 123, 32)      128       \n",
            "_________________________________________________________________\n",
            "max_pooling2d_181 (MaxPoolin (None, 61, 61, 32)        0         \n",
            "_________________________________________________________________\n",
            "conv2d_317 (Conv2D)          (None, 31, 31, 32)        9248      \n",
            "_________________________________________________________________\n",
            "batch_normalization_226 (Bat (None, 31, 31, 32)        128       \n",
            "_________________________________________________________________\n",
            "dropout_225 (Dropout)        (None, 31, 31, 32)        0         \n",
            "_________________________________________________________________\n",
            "conv2d_318 (Conv2D)          (None, 29, 29, 64)        18496     \n",
            "_________________________________________________________________\n",
            "max_pooling2d_182 (MaxPoolin (None, 14, 14, 64)        0         \n",
            "_________________________________________________________________\n",
            "conv2d_319 (Conv2D)          (None, 12, 12, 64)        36928     \n",
            "_________________________________________________________________\n",
            "dropout_226 (Dropout)        (None, 12, 12, 64)        0         \n",
            "_________________________________________________________________\n",
            "batch_normalization_227 (Bat (None, 12, 12, 64)        256       \n",
            "_________________________________________________________________\n",
            "conv2d_320 (Conv2D)          (None, 6, 6, 64)          102464    \n",
            "_________________________________________________________________\n",
            "batch_normalization_228 (Bat (None, 6, 6, 64)          256       \n",
            "_________________________________________________________________\n",
            "dropout_227 (Dropout)        (None, 6, 6, 64)          0         \n",
            "_________________________________________________________________\n",
            "conv2d_321 (Conv2D)          (None, 3, 3, 128)         131200    \n",
            "_________________________________________________________________\n",
            "dropout_228 (Dropout)        (None, 3, 3, 128)         0         \n",
            "_________________________________________________________________\n",
            "max_pooling2d_183 (MaxPoolin (None, 1, 1, 128)         0         \n",
            "_________________________________________________________________\n",
            "batch_normalization_229 (Bat (None, 1, 1, 128)         512       \n",
            "_________________________________________________________________\n",
            "flatten_45 (Flatten)         (None, 128)               0         \n",
            "_________________________________________________________________\n",
            "dropout_229 (Dropout)        (None, 128)               0         \n",
            "_________________________________________________________________\n",
            "dense_45 (Dense)             (None, 2)                 258       \n",
            "=================================================================\n",
            "Total params: 326,402\n",
            "Trainable params: 325,762\n",
            "Non-trainable params: 640\n",
            "_________________________________________________________________\n"
          ],
          "name": "stdout"
        }
      ]
    },
    {
      "cell_type": "code",
      "metadata": {
        "id": "0VOv_piWHl1G",
        "colab": {
          "base_uri": "https://localhost:8080/"
        },
        "outputId": "5c5ee240-aaae-445f-e50c-734231ad3a61"
      },
      "source": [
        "train_accu = model.evaluate(train_ds)\n",
        "print('The training accuracy is :',train_accu[1]*100, '%')"
      ],
      "execution_count": null,
      "outputs": [
        {
          "output_type": "stream",
          "text": [
            "55/55 [==============================] - 13s 220ms/step - loss: 1.3908 - accuracy: 0.8682\n",
            "The training accuracy is : 86.81948184967041 %\n"
          ],
          "name": "stdout"
        }
      ]
    },
    {
      "cell_type": "code",
      "metadata": {
        "colab": {
          "base_uri": "https://localhost:8080/"
        },
        "id": "borBsi1MqWIQ",
        "outputId": "c0cfec78-e120-4b14-9de0-cc54d5e6ff36"
      },
      "source": [
        "train_accu"
      ],
      "execution_count": null,
      "outputs": [
        {
          "output_type": "execute_result",
          "data": {
            "text/plain": [
              "[1.3908257484436035, 0.8681948184967041]"
            ]
          },
          "metadata": {},
          "execution_count": 66
        }
      ]
    },
    {
      "cell_type": "code",
      "metadata": {
        "colab": {
          "base_uri": "https://localhost:8080/"
        },
        "id": "i98g54VVAY5J",
        "outputId": "817396e2-b0b3-4579-ce1b-7a3eafb5dad9"
      },
      "source": [
        "test_accu= model.evaluate(test_ds)\n",
        "print('The test accuracy is :',test_accu[1]*100, '%')"
      ],
      "execution_count": null,
      "outputs": [
        {
          "output_type": "stream",
          "text": [
            "24/24 [==============================] - 5s 223ms/step - loss: 1.4580 - accuracy: 0.8217\n",
            "The test accuracy is : 82.17158317565918 %\n"
          ],
          "name": "stdout"
        }
      ]
    },
    {
      "cell_type": "code",
      "metadata": {
        "colab": {
          "base_uri": "https://localhost:8080/"
        },
        "id": "_adHP5uaqZzv",
        "outputId": "231a3e5c-0851-43c2-d491-b0651517551f"
      },
      "source": [
        "test_accu"
      ],
      "execution_count": null,
      "outputs": [
        {
          "output_type": "execute_result",
          "data": {
            "text/plain": [
              "[1.4580395221710205, 0.8217158317565918]"
            ]
          },
          "metadata": {},
          "execution_count": 67
        }
      ]
    },
    {
      "cell_type": "code",
      "metadata": {
        "id": "zKQdyKRMMEl-"
      },
      "source": [
        "#layer 1 of cnn:\n",
        "import tensorflow as tf\n",
        "from tensorflow import keras\n",
        "from tensorflow.keras import layers\n",
        "model = keras.Sequential()\n",
        "model.add(Conv2D(32, kernel_size = 3,kernel_initializer='he_normal',activation='relu', input_shape = (256, 256, 3),kernel_regularizer=regularizers.l2(l=0.01)))\n",
        "model.add(MaxPooling2D((2, 2)))# Hidden Layer 2\n",
        "model.add(Conv2D(32, kernel_size = 5, activation='relu',kernel_constraint=unit_norm()))\n",
        "model.add(BatchNormalization())\n",
        "model.add(MaxPooling2D((2, 2)))# Hidden Layer 2\n",
        "model.add(Conv2D(32, kernel_size = 3, strides=2, padding='same', activation='relu', kernel_regularizer=regularizers.l2(l=0.01)))\n",
        "model.add(BatchNormalization())\n",
        "model.add(Dropout(0.6))\n",
        "\n",
        "#Second Layer of CNN\n",
        "model.add(Conv2D(64, kernel_size = 3,kernel_constraint=unit_norm() ,activation='relu'))\n",
        "#    model[j].add(BatchNormalization())\n",
        "model.add(MaxPooling2D((2, 2)))# Hidden Layer 2\n",
        "model.add(Conv2D(64, kernel_size = 3, activation='relu', kernel_regularizer=regularizers.l2(l=0.01)))\n",
        "model.add(Dropout(0.4))\n",
        "model.add(BatchNormalization())\n",
        "model.add(Conv2D(64, kernel_size = 5, strides=2, padding='same', activation='relu'))\n",
        "model.add(BatchNormalization())\n",
        "model.add(Dropout(0.6))\n",
        "\n",
        "#Third layer of CNN\n",
        "model.add(Conv2D(128, kernel_size = 4, activation='relu', kernel_regularizer=regularizers.l2(l=0.01)))\n",
        "model.add(Dropout(0.5))\n",
        "model.add(MaxPooling2D((2, 2)))# Hidden Layer 2\n",
        "model.add(BatchNormalization())\n",
        "model.add(Flatten())\n",
        "model.add(Dropout(0.5))\n",
        "\n",
        "#Output layer\n",
        "model.add(Dense(2, activation='softmax'))\n",
        "\n",
        "# Compile each model\n",
        "model.compile(optimizer='adam', loss=\"binary_crossentropy\", metrics=[\"accuracy\"])"
      ],
      "execution_count": null,
      "outputs": []
    },
    {
      "cell_type": "code",
      "metadata": {
        "colab": {
          "base_uri": "https://localhost:8080/"
        },
        "id": "JZjHn4XZNiR5",
        "outputId": "610cc3e8-88a5-4d7a-ba9f-72a8ef9b0304"
      },
      "source": [
        "hist_model = model.fit(train_ds,epochs=40, validation_data=val_ds, callbacks=callbacks_list,class_weight=cw)"
      ],
      "execution_count": null,
      "outputs": [
        {
          "output_type": "stream",
          "text": [
            "Epoch 1/40\n",
            "55/55 [==============================] - 21s 353ms/step - loss: 3.3029 - accuracy: 0.6258 - val_loss: 2.9581 - val_accuracy: 0.6555\n",
            "Epoch 2/40\n",
            "55/55 [==============================] - 19s 348ms/step - loss: 2.9114 - accuracy: 0.7467 - val_loss: 3.0195 - val_accuracy: 0.4933\n",
            "\n",
            "Epoch 00002: ReduceLROnPlateau reducing learning rate to 0.0003000000142492354.\n",
            "Epoch 3/40\n",
            "55/55 [==============================] - 19s 343ms/step - loss: 2.6266 - accuracy: 0.8069 - val_loss: 2.8892 - val_accuracy: 0.5174\n",
            "Epoch 4/40\n",
            "55/55 [==============================] - 19s 345ms/step - loss: 2.5028 - accuracy: 0.8436 - val_loss: 2.7158 - val_accuracy: 0.6836\n",
            "Epoch 5/40\n",
            "55/55 [==============================] - 19s 346ms/step - loss: 2.3907 - accuracy: 0.8556 - val_loss: 2.5496 - val_accuracy: 0.6944\n",
            "Epoch 6/40\n",
            "55/55 [==============================] - 19s 343ms/step - loss: 2.3045 - accuracy: 0.8613 - val_loss: 2.3639 - val_accuracy: 0.7413\n",
            "Epoch 7/40\n",
            "55/55 [==============================] - 19s 348ms/step - loss: 2.2095 - accuracy: 0.8670 - val_loss: 2.2951 - val_accuracy: 0.7386\n",
            "Epoch 8/40\n",
            "55/55 [==============================] - 19s 345ms/step - loss: 2.0851 - accuracy: 0.8980 - val_loss: 2.1964 - val_accuracy: 0.7560\n",
            "Epoch 9/40\n",
            "55/55 [==============================] - 19s 343ms/step - loss: 2.0163 - accuracy: 0.8905 - val_loss: 2.0875 - val_accuracy: 0.8029\n",
            "Epoch 10/40\n",
            "55/55 [==============================] - 19s 344ms/step - loss: 1.9363 - accuracy: 0.8888 - val_loss: 2.1880 - val_accuracy: 0.6930\n",
            "\n",
            "Epoch 00010: ReduceLROnPlateau reducing learning rate to 9.000000427477062e-05.\n",
            "Epoch 11/40\n",
            "55/55 [==============================] - 19s 345ms/step - loss: 1.8598 - accuracy: 0.9020 - val_loss: 2.1031 - val_accuracy: 0.7869\n",
            "\n",
            "Epoch 00011: ReduceLROnPlateau reducing learning rate to 2.700000040931627e-05.\n"
          ],
          "name": "stdout"
        }
      ]
    },
    {
      "cell_type": "code",
      "metadata": {
        "colab": {
          "base_uri": "https://localhost:8080/",
          "height": 573
        },
        "id": "EoDrRxMHVqFo",
        "outputId": "96a0c1fc-f213-4388-faf2-96f321e39b93"
      },
      "source": [
        "plt.plot(hist_model.history['accuracy'])\n",
        "plt.plot(hist_model.history['val_accuracy'])\n",
        "plt.title('model accuracy')\n",
        "plt.ylabel('accuracy')\n",
        "plt.xlabel('epoch')\n",
        "plt.legend(['train', 'validation'], loc='upper left')\n",
        "plt.show()\n",
        "# \"Loss\"\n",
        "plt.plot(hist_model.history['loss'])\n",
        "plt.plot(hist_model.history['val_loss'])\n",
        "plt.title('model loss')\n",
        "plt.ylabel('loss')\n",
        "plt.xlabel('epoch')\n",
        "plt.legend(['train', 'validation'], loc='upper left')\n",
        "plt.show()"
      ],
      "execution_count": null,
      "outputs": [
        {
          "output_type": "display_data",
          "data": {
            "image/png": "[encoded data removed]",
            "text/plain": [
              "<Figure size 432x288 with 1 Axes>"
            ]
          },
          "metadata": {
            "needs_background": "light"
          }
        },
        {
          "output_type": "display_data",
          "data": {
            "image/png": "[encoded data removed]",
            "text/plain": [
              "<Figure size 432x288 with 1 Axes>"
            ]
          },
          "metadata": {
            "needs_background": "light"
          }
        }
      ]
    },
    {
      "cell_type": "code",
      "metadata": {
        "colab": {
          "base_uri": "https://localhost:8080/"
        },
        "id": "wxLiaALcu0dC",
        "outputId": "41e25671-5f8d-4971-fd60-e255755b49b8"
      },
      "source": [
        "train_accu = model.evaluate(train_ds)\n",
        "print('The training accuracy is :',train_accu[1]*100, '%')"
      ],
      "execution_count": null,
      "outputs": [
        {
          "output_type": "stream",
          "text": [
            "55/55 [==============================] - 12s 223ms/step - loss: 1.9804 - accuracy: 0.9117\n",
            "The training accuracy is : 91.17478728294373 %\n"
          ],
          "name": "stdout"
        }
      ]
    },
    {
      "cell_type": "code",
      "metadata": {
        "id": "dtnoOHE-Njpm",
        "colab": {
          "base_uri": "https://localhost:8080/"
        },
        "outputId": "065a37e6-2c9d-4750-ec5e-fb0923831a30"
      },
      "source": [
        "test_accu = model.evaluate(test_ds)\n",
        "print('The testing accuracy is :',test_accu[1]*100, '%')"
      ],
      "execution_count": null,
      "outputs": [
        {
          "output_type": "stream",
          "text": [
            "24/24 [==============================] - 5s 225ms/step - loss: 2.0875 - accuracy: 0.8029\n",
            "The testing accuracy is : 80.2949070930481 %\n"
          ],
          "name": "stdout"
        }
      ]
    },
    {
      "cell_type": "code",
      "metadata": {
        "id": "GVSAh8wXu2ON"
      },
      "source": [
        "model.save('CNN.h5')"
      ],
      "execution_count": null,
      "outputs": []
    },
    {
      "cell_type": "code",
      "metadata": {
        "id": "6orWmnghc2Rt"
      },
      "source": [
        ""
      ],
      "execution_count": null,
      "outputs": []
    },
    {
      "cell_type": "code",
      "metadata": {
        "id": "EiuK9Tnnc2Vu"
      },
      "source": [
        ""
      ],
      "execution_count": null,
      "outputs": []
    }
  ]
}