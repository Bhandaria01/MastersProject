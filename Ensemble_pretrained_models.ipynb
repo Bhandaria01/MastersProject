{
  "nbformat": 4,
  "nbformat_minor": 0,
  "metadata": {
    "accelerator": "GPU",
    "colab": {
      "name": "Ensemble_pretrained_models.ipynb",
      "provenance": [],
      "collapsed_sections": []
    },
    "kernelspec": {
      "display_name": "Python 3",
      "name": "python3"
    },
    "language_info": {
      "name": "python"
    }
  },
  "cells": [
    {
      "cell_type": "markdown",
      "metadata": {
        "id": "Fy3BU6kbcab5"
      },
      "source": [
        "###**Ensemble of VGG19, InceptionV3 and VGG16 pretrained models.**\n",
        "Created by : Apoorva Dattatray Bhandari\n",
        "Student Number : 20235788\n"
      ]
    },
    {
      "cell_type": "code",
      "metadata": {
        "id": "8Tdo5Squx1go"
      },
      "source": [
        "#all necessary imports\n",
        "\n",
        "import numpy as np \n",
        "import pandas as pd \n",
        "import os\n",
        "from glob import glob\n",
        "from cv2 import resize\n",
        "from cv2 import imread\n",
        "from cv2 import INTER_CUBIC\n",
        "import tensorflow as tf\n",
        "import os\n",
        "import numpy as np\n",
        "import matplotlib.pyplot as plt\n",
        "import re\n",
        "import random\n",
        "import cv2\n",
        "from keras.models import Sequential\n",
        "from keras.layers import Dense, LeakyReLU, ReLU, Dropout,Flatten, BatchNormalization\n",
        "from tensorflow.keras.optimizers import Adam\n",
        "from tensorflow.keras.models import Model\n",
        "from tensorflow import keras\n",
        "from tensorflow.keras.constraints import unit_norm\n",
        "from tensorflow.keras import regularizers\n",
        "import tensorflow as tf\n",
        "import os\n",
        "import numpy as np\n",
        "import matplotlib.pyplot as plt\n",
        "import re\n",
        "import random\n",
        "import cv2\n",
        "from sklearn.metrics import accuracy_score\n"
      ],
      "execution_count": 2,
      "outputs": []
    },
    {
      "cell_type": "code",
      "metadata": {
        "colab": {
          "base_uri": "https://localhost:8080/"
        },
        "id": "GnkBICI06mtN",
        "outputId": "d0e2e8a7-4c3e-4b54-ecb7-e7b002d0f860"
      },
      "source": [
        "#drive needed to access dataset\n",
        "from google.colab import drive\n",
        "drive.mount('/content/drive')"
      ],
      "execution_count": null,
      "outputs": [
        {
          "output_type": "stream",
          "text": [
            "Drive already mounted at /content/drive; to attempt to forcibly remount, call drive.mount(\"/content/drive\", force_remount=True).\n"
          ],
          "name": "stdout"
        }
      ]
    },
    {
      "cell_type": "code",
      "metadata": {
        "id": "KcwDGjNHmYNi"
      },
      "source": [
        "#loads the images located under the given path returns them in a list together with array of image's shapes \n",
        "def load_images(path):\n",
        "    imglist, imgshapelist = list(), list()\n",
        "    for impath in glob(path):\n",
        "        img = imread(impath)\n",
        "        if img.shape[2]==3:\n",
        "            imglist.append(img)\n",
        "            imgshapelist.append(img.shape)\n",
        "    return imglist, np.array(imgshapelist)[:,:2]\n",
        "\n",
        "#get images and shapes\n",
        "cposl, cpshape = load_images(\"/content/drive/MyDrive/SARS_COVID_DATASET/COVID/*\")\n",
        "cnegl, cnshape = load_images(\"/content/drive/MyDrive/SARS_COVID_DATASET/non-COVID/*\")\n",
        "\n",
        "concatenated = np.concatenate([cpshape,cnshape])\n",
        "concatenatedhwratios = concatenated[:,0]/concatenated[:,1]\n",
        "q1 = np.quantile(concatenatedhwratios, .25, axis = 0)\n",
        "q2 = np.quantile(concatenatedhwratios, .50, axis = 0)\n",
        "q3 = np.quantile(concatenatedhwratios, .75, axis = 0)\n",
        "qr = (q3-q1)*1.5\n",
        "ql = q2 - qr\n",
        "qu = q2 + qr\n",
        "\n",
        "#outlier filters\n",
        "cphwratios = cpshape[:,0]/cpshape[:,1]\n",
        "cpfilter = (cphwratios<qu) & (cphwratios>ql)\n",
        "\n",
        "cnhwratios = cnshape[:,0]/cnshape[:,1]\n",
        "cnfilter = (cnhwratios<qu) & (cnhwratios>ql)\n",
        "\n",
        "\n",
        "from itertools import compress\n",
        "#returns an array of resized images that are not outliers \n",
        "def filter_resize_array(listofimages, filterofwanteds, targetdim, interpolation = INTER_CUBIC):\n",
        "    retlis = list()\n",
        "    for im in compress(listofimages, filterofwanteds):\n",
        "        #midimg = cv2.resize(im, middim, interpolation)\n",
        "        retlis.append(resize(im, targetdim, interpolation))\n",
        "    return np.array(retlis)\n",
        "\n",
        "#get resized appropriate images\n",
        "cpos = filter_resize_array(cposl, cpfilter, (224, 224))\n",
        "cneg = filter_resize_array(cnegl, cnfilter, (224, 224))"
      ],
      "execution_count": 3,
      "outputs": []
    },
    {
      "cell_type": "code",
      "metadata": {
        "id": "iKyP9pusm9aG"
      },
      "source": [
        "X = np.concatenate([cpos,cneg])\n",
        "\n",
        "#create the Y array positive = [1 , 0] negative = [0 , 1]\n",
        "Y = np.tile( np.array([0,0]),(X.shape[0],1))\n",
        "Y[:cpos.shape[0],0]=1\n",
        "Y[cpos.shape[0]:,1]=1\n",
        "\n",
        "\n",
        "#shuffle\n",
        "np.random.seed(1)\n",
        "p = np.random.permutation(Y.shape[0])\n",
        "X, Y = X[p], Y[p] \n",
        "\n",
        "#train test split\n",
        "from sklearn.model_selection import train_test_split\n",
        "xtr, xte, ytr, yte = train_test_split(X,Y,train_size = 0.85, random_state = 1)\n",
        "xtr = xtr /255\n",
        "xte = xte /255"
      ],
      "execution_count": 4,
      "outputs": []
    },
    {
      "cell_type": "markdown",
      "metadata": {
        "id": "ZFlrUgSANNCf"
      },
      "source": [
        "##VGG19 pretrained model with addition of custom layers"
      ]
    },
    {
      "cell_type": "code",
      "metadata": {
        "id": "GSuma1Sw5DqU"
      },
      "source": [
        "from keras.applications.vgg19 import VGG19\n",
        "model = VGG19(include_top=False, weights='imagenet',input_shape=(224,224,3))\n",
        "model.trainable = True\n",
        "#flat1 = Flatten(name=\"vgg19_flat1\")(model.output)\n",
        "global_average_layer = tf.keras.layers.GlobalAveragePooling2D()(model.output)\n",
        "class1 = Dense(100, activation='relu',kernel_initializer='he_normal',kernel_regularizer=regularizers.l2(l=0.001))(global_average_layer)\n",
        "batch1 = BatchNormalization()(class1)\n",
        "class2 = Dense(100, activation='relu',kernel_constraint=unit_norm())(batch1)\n",
        "batch2 = BatchNormalization()(class2)\n",
        "class3 = Dense(100, activation='relu',kernel_regularizer=regularizers.l2(l=0.01))(batch2)\n",
        "output = Dense(2, activation='softmax')(class3)\n",
        "model = Model(inputs=model.inputs, outputs=output)\n",
        "\n",
        "model.compile(loss = \"categorical_crossentropy\", optimizer = keras.optimizers.Adamax(learning_rate=0.00001), metrics = [\"accuracy\"])"
      ],
      "execution_count": null,
      "outputs": []
    },
    {
      "cell_type": "code",
      "metadata": {
        "colab": {
          "base_uri": "https://localhost:8080/"
        },
        "id": "z6Z4xEF0d5iq",
        "outputId": "b7c2c303-d4e1-4112-b7e1-3bfd1e82c8f9"
      },
      "source": [
        "epochs = 15\n",
        "history = model.fit(xtr, ytr ,epochs = epochs, workers=10, validation_data=(xte, yte),use_multiprocessing=True)"
      ],
      "execution_count": null,
      "outputs": [
        {
          "output_type": "stream",
          "text": [
            "Epoch 1/15\n",
            "61/61 [==============================] - 83s 1s/step - loss: 1.7155 - accuracy: 0.7504 - val_loss: 1.8637 - val_accuracy: 0.5116\n",
            "Epoch 2/15\n",
            "61/61 [==============================] - 62s 1s/step - loss: 1.5045 - accuracy: 0.8863 - val_loss: 1.8325 - val_accuracy: 0.5203\n",
            "Epoch 3/15\n",
            "61/61 [==============================] - 62s 1s/step - loss: 1.4234 - accuracy: 0.9171 - val_loss: 1.7727 - val_accuracy: 0.6541\n",
            "Epoch 4/15\n",
            "61/61 [==============================] - 62s 1s/step - loss: 1.3712 - accuracy: 0.9418 - val_loss: 1.6792 - val_accuracy: 0.7733\n",
            "Epoch 5/15\n",
            "61/61 [==============================] - 62s 1s/step - loss: 1.3370 - accuracy: 0.9671 - val_loss: 1.5827 - val_accuracy: 0.8576\n",
            "Epoch 6/15\n",
            "61/61 [==============================] - 62s 1s/step - loss: 1.3100 - accuracy: 0.9722 - val_loss: 1.4833 - val_accuracy: 0.9128\n",
            "Epoch 7/15\n",
            "61/61 [==============================] - 62s 1s/step - loss: 1.2868 - accuracy: 0.9835 - val_loss: 1.3963 - val_accuracy: 0.9448\n",
            "Epoch 8/15\n",
            "61/61 [==============================] - 62s 1s/step - loss: 1.2679 - accuracy: 0.9866 - val_loss: 1.3624 - val_accuracy: 0.9535\n",
            "Epoch 9/15\n",
            "61/61 [==============================] - 62s 1s/step - loss: 1.2517 - accuracy: 0.9902 - val_loss: 1.3290 - val_accuracy: 0.9506\n",
            "Epoch 10/15\n",
            "61/61 [==============================] - 62s 1s/step - loss: 1.2309 - accuracy: 0.9959 - val_loss: 1.2923 - val_accuracy: 0.9506\n",
            "Epoch 11/15\n",
            "61/61 [==============================] - 62s 1s/step - loss: 1.2192 - accuracy: 0.9979 - val_loss: 1.2863 - val_accuracy: 0.9593\n",
            "Epoch 12/15\n",
            "61/61 [==============================] - 62s 1s/step - loss: 1.2125 - accuracy: 0.9959 - val_loss: 1.2802 - val_accuracy: 0.9564\n",
            "Epoch 13/15\n",
            "61/61 [==============================] - 62s 1s/step - loss: 1.2023 - accuracy: 0.9974 - val_loss: 1.3193 - val_accuracy: 0.9302\n",
            "Epoch 14/15\n",
            "61/61 [==============================] - 62s 1s/step - loss: 1.1915 - accuracy: 1.0000 - val_loss: 1.2448 - val_accuracy: 0.9651\n",
            "Epoch 15/15\n",
            "61/61 [==============================] - 62s 1s/step - loss: 1.1834 - accuracy: 0.9995 - val_loss: 1.2345 - val_accuracy: 0.9651\n"
          ],
          "name": "stdout"
        }
      ]
    },
    {
      "cell_type": "code",
      "metadata": {
        "id": "JI-nb2S6D1_b"
      },
      "source": [
        "model.save('VGG19.h5')"
      ],
      "execution_count": null,
      "outputs": []
    },
    {
      "cell_type": "code",
      "metadata": {
        "id": "2yUe9_gQ_HUm"
      },
      "source": [
        "model = tf.keras.models.load_model('/content/drive/MyDrive/latest models/VGG19.h5')"
      ],
      "execution_count": null,
      "outputs": []
    },
    {
      "cell_type": "code",
      "metadata": {
        "colab": {
          "base_uri": "https://localhost:8080/"
        },
        "id": "7YqbvXQ0BEnD",
        "outputId": "0fa4881d-1256-4809-ae20-e5aeb40dca63"
      },
      "source": [
        "train_accu = model.evaluate(xtr,ytr)\n",
        "print('The training accuracy is :',train_accu[1]*100, '%')"
      ],
      "execution_count": null,
      "outputs": [
        {
          "output_type": "stream",
          "text": [
            "61/61 [==============================] - 26s 420ms/step - loss: 1.1653 - accuracy: 1.0000\n",
            "The training accuracy is : 100.0 %\n"
          ],
          "name": "stdout"
        }
      ]
    },
    {
      "cell_type": "code",
      "metadata": {
        "colab": {
          "base_uri": "https://localhost:8080/"
        },
        "id": "LNxRMaIb_rGu",
        "outputId": "b2e66f8a-e56c-4b6b-a3dc-4a35d2a0e61f"
      },
      "source": [
        "test_accu = model.evaluate(xte,yte)\n",
        "print('The testing accuracy is :',test_accu[1]*100, '%')"
      ],
      "execution_count": null,
      "outputs": [
        {
          "output_type": "stream",
          "text": [
            "11/11 [==============================] - 3s 291ms/step - loss: 1.2345 - accuracy: 0.9651\n",
            "The testing accuracy is : 96.51162624359131 %\n"
          ],
          "name": "stdout"
        }
      ]
    },
    {
      "cell_type": "code",
      "metadata": {
        "id": "AapiKFqaR7FE"
      },
      "source": [
        "plt.plot(history.history['accuracy'],\"g\",label=\"Training Accuracy\")\n",
        "plt.plot(history.history['val_accuracy'],\"b\",label=\"Validation Accuracy\")\n",
        "plt.title('VGG19 Training and Validation accuracy')\n",
        "plt.ylabel('Accuracy')\n",
        "plt.xlabel('Epochs')\n",
        "plt.legend()\n",
        "plt.show()\n",
        "# \"Loss\"\n",
        "plt.plot(history.history['loss'],\"g\",label=\"Training loss\")\n",
        "plt.plot(history.history['val_loss'],\"b\",label=\"Validation loss\")\n",
        "plt.title('VGG19 Training and Validation loss')\n",
        "plt.ylabel('loss')\n",
        "plt.xlabel('epoch')\n",
        "plt.legend()\n",
        "plt.show()"
      ],
      "execution_count": null,
      "outputs": []
    },
    {
      "cell_type": "markdown",
      "metadata": {
        "id": "Kjqc2V5cNQ3j"
      },
      "source": [
        "##INCEPTIONV3 pretrained model with addition of custom layers\n"
      ]
    },
    {
      "cell_type": "code",
      "metadata": {
        "id": "8is01UQa_H1g"
      },
      "source": [
        "from tensorflow.keras.applications.inception_v3 import InceptionV3\n",
        "model = InceptionV3(input_shape = (224, 224, 3), include_top = False, weights = 'imagenet')\n",
        "model.trainable = True\n",
        "global_average_layer = tf.keras.layers.GlobalAveragePooling2D()(model.output)\n",
        "class1 = Dense(100, activation='relu',kernel_initializer='he_normal',kernel_regularizer=regularizers.l2(l=0.001))(global_average_layer)\n",
        "batch1 = BatchNormalization()(class1)\n",
        "class2 = Dense(100, activation='relu',kernel_constraint=unit_norm())(batch1)\n",
        "batch2 = BatchNormalization()(class2)\n",
        "class3 = Dense(100, activation='relu',kernel_regularizer=regularizers.l2(l=0.01))(batch2)\n",
        "output = Dense(2, activation='softmax')(class3)\n",
        "model = Model(inputs=model.inputs, outputs=output)\n",
        "\n",
        "model.compile(loss = \"categorical_crossentropy\", optimizer = keras.optimizers.Adamax(learning_rate=0.00001), metrics = [\"accuracy\"])"
      ],
      "execution_count": null,
      "outputs": []
    },
    {
      "cell_type": "code",
      "metadata": {
        "colab": {
          "base_uri": "https://localhost:8080/"
        },
        "id": "JMVAw3amZTKh",
        "outputId": "1a052a4c-1f27-4891-fed7-3e7bebf5d852"
      },
      "source": [
        "\n",
        "history=model.fit(xtr, ytr ,epochs = 30, workers=10, validation_data=(xte, yte),use_multiprocessing=True)"
      ],
      "execution_count": null,
      "outputs": [
        {
          "output_type": "stream",
          "text": [
            "Epoch 1/30\n",
            "61/61 [==============================] - 56s 720ms/step - loss: 2.0332 - accuracy: 0.5548 - val_loss: 1.9125 - val_accuracy: 0.5523\n",
            "Epoch 2/30\n",
            "61/61 [==============================] - 37s 608ms/step - loss: 1.9178 - accuracy: 0.6032 - val_loss: 1.9210 - val_accuracy: 0.5087\n",
            "Epoch 3/30\n",
            "61/61 [==============================] - 37s 607ms/step - loss: 1.8307 - accuracy: 0.6603 - val_loss: 1.9088 - val_accuracy: 0.5058\n",
            "Epoch 4/30\n",
            "61/61 [==============================] - 37s 608ms/step - loss: 1.7713 - accuracy: 0.7077 - val_loss: 1.9221 - val_accuracy: 0.5320\n",
            "Epoch 5/30\n",
            "61/61 [==============================] - 37s 607ms/step - loss: 1.7157 - accuracy: 0.7344 - val_loss: 1.9004 - val_accuracy: 0.5640\n",
            "Epoch 6/30\n",
            "61/61 [==============================] - 37s 607ms/step - loss: 1.6751 - accuracy: 0.7833 - val_loss: 1.8881 - val_accuracy: 0.5785\n",
            "Epoch 7/30\n",
            "61/61 [==============================] - 37s 606ms/step - loss: 1.6332 - accuracy: 0.8024 - val_loss: 1.8687 - val_accuracy: 0.5843\n",
            "Epoch 8/30\n",
            "61/61 [==============================] - 37s 607ms/step - loss: 1.5980 - accuracy: 0.8173 - val_loss: 1.8127 - val_accuracy: 0.6802\n",
            "Epoch 9/30\n",
            "61/61 [==============================] - 37s 606ms/step - loss: 1.5710 - accuracy: 0.8379 - val_loss: 1.7407 - val_accuracy: 0.7442\n",
            "Epoch 10/30\n",
            "61/61 [==============================] - 37s 608ms/step - loss: 1.5367 - accuracy: 0.8688 - val_loss: 1.7254 - val_accuracy: 0.7529\n",
            "Epoch 11/30\n",
            "61/61 [==============================] - 37s 607ms/step - loss: 1.5170 - accuracy: 0.8847 - val_loss: 1.7233 - val_accuracy: 0.7384\n",
            "Epoch 12/30\n",
            "61/61 [==============================] - 37s 607ms/step - loss: 1.4914 - accuracy: 0.8929 - val_loss: 1.7006 - val_accuracy: 0.7500\n",
            "Epoch 13/30\n",
            "61/61 [==============================] - 37s 606ms/step - loss: 1.4716 - accuracy: 0.9027 - val_loss: 1.6781 - val_accuracy: 0.7703\n",
            "Epoch 14/30\n",
            "61/61 [==============================] - 37s 609ms/step - loss: 1.4498 - accuracy: 0.9223 - val_loss: 1.6540 - val_accuracy: 0.7733\n",
            "61/61 [==============================] - 37s 609ms/step - loss: 1.4498 - accuracy: 0.9223 - val_loss: 1.6540 - val_accuracy: 0.7733\n",
            "61/61 [==============================] - 37s 609ms/step - loss: 1.4498 - accuracy: 0.9223 - val_loss: 1.6540 - val_accuracy: 0.7733\n",
            "Epoch 15/30\n",
            "Epoch 15/30\n",
            "Epoch 15/30\n",
            "61/61 [==============================] - 37s 609ms/step - loss: 1.4336 - accuracy: 0.9279 - val_loss: 1.6404 - val_accuracy: 0.7878\n",
            "61/61 [==============================] - 37s 609ms/step - loss: 1.4336 - accuracy: 0.9279 - val_loss: 1.6404 - val_accuracy: 0.7878\n",
            "61/61 [==============================] - 37s 609ms/step - loss: 1.4336 - accuracy: 0.9279 - val_loss: 1.6404 - val_accuracy: 0.7878\n",
            "Epoch 16/30\n",
            "Epoch 16/30\n",
            "Epoch 16/30\n",
            "61/61 [==============================] - 37s 609ms/step - loss: 1.4048 - accuracy: 0.9393 - val_loss: 1.6311 - val_accuracy: 0.7965\n",
            "61/61 [==============================] - 37s 609ms/step - loss: 1.4048 - accuracy: 0.9393 - val_loss: 1.6311 - val_accuracy: 0.7965\n",
            "61/61 [==============================] - 37s 609ms/step - loss: 1.4048 - accuracy: 0.9393 - val_loss: 1.6311 - val_accuracy: 0.7965\n",
            "Epoch 17/30\n",
            "Epoch 17/30\n",
            "Epoch 17/30\n",
            "61/61 [==============================] - 37s 609ms/step - loss: 1.4007 - accuracy: 0.9382 - val_loss: 1.6132 - val_accuracy: 0.8023\n",
            "61/61 [==============================] - 37s 609ms/step - loss: 1.4007 - accuracy: 0.9382 - val_loss: 1.6132 - val_accuracy: 0.8023\n",
            "61/61 [==============================] - 37s 609ms/step - loss: 1.4007 - accuracy: 0.9382 - val_loss: 1.6132 - val_accuracy: 0.8023\n",
            "Epoch 18/30\n",
            "Epoch 18/30\n",
            "Epoch 18/30\n",
            "61/61 [==============================] - 37s 611ms/step - loss: 1.3838 - accuracy: 0.9439 - val_loss: 1.6014 - val_accuracy: 0.8023\n",
            "61/61 [==============================] - 37s 611ms/step - loss: 1.3838 - accuracy: 0.9439 - val_loss: 1.6014 - val_accuracy: 0.8023\n",
            "61/61 [==============================] - 37s 611ms/step - loss: 1.3838 - accuracy: 0.9439 - val_loss: 1.6014 - val_accuracy: 0.8023\n",
            "Epoch 19/30\n",
            "Epoch 19/30\n",
            "Epoch 19/30\n",
            "61/61 [==============================] - 37s 610ms/step - loss: 1.3614 - accuracy: 0.9599 - val_loss: 1.5890 - val_accuracy: 0.8110\n",
            "61/61 [==============================] - 37s 610ms/step - loss: 1.3614 - accuracy: 0.9599 - val_loss: 1.5890 - val_accuracy: 0.8110\n",
            "61/61 [==============================] - 37s 610ms/step - loss: 1.3614 - accuracy: 0.9599 - val_loss: 1.5890 - val_accuracy: 0.8110\n",
            "Epoch 20/30\n",
            "Epoch 20/30\n",
            "Epoch 20/30\n",
            "61/61 [==============================] - 37s 611ms/step - loss: 1.3559 - accuracy: 0.9604 - val_loss: 1.5779 - val_accuracy: 0.8052\n",
            "61/61 [==============================] - 37s 611ms/step - loss: 1.3559 - accuracy: 0.9604 - val_loss: 1.5779 - val_accuracy: 0.8052\n",
            "61/61 [==============================] - 37s 611ms/step - loss: 1.3559 - accuracy: 0.9604 - val_loss: 1.5779 - val_accuracy: 0.8052\n",
            "Epoch 21/30\n",
            "Epoch 21/30\n",
            "Epoch 21/30\n",
            "61/61 [==============================] - 37s 609ms/step - loss: 1.3316 - accuracy: 0.9660 - val_loss: 1.5682 - val_accuracy: 0.8198\n",
            "61/61 [==============================] - 37s 609ms/step - loss: 1.3316 - accuracy: 0.9660 - val_loss: 1.5682 - val_accuracy: 0.8198\n",
            "61/61 [==============================] - 37s 609ms/step - loss: 1.3316 - accuracy: 0.9660 - val_loss: 1.5682 - val_accuracy: 0.8198\n",
            "Epoch 22/30\n",
            "Epoch 22/30\n",
            "Epoch 22/30\n",
            "61/61 [==============================] - 37s 609ms/step - loss: 1.3181 - accuracy: 0.9707 - val_loss: 1.5575 - val_accuracy: 0.8314\n",
            "61/61 [==============================] - 37s 609ms/step - loss: 1.3181 - accuracy: 0.9707 - val_loss: 1.5575 - val_accuracy: 0.8314\n",
            "61/61 [==============================] - 37s 609ms/step - loss: 1.3181 - accuracy: 0.9707 - val_loss: 1.5575 - val_accuracy: 0.8314\n",
            "Epoch 23/30\n",
            "Epoch 23/30\n",
            "Epoch 23/30\n",
            "61/61 [==============================] - 37s 608ms/step - loss: 1.3032 - accuracy: 0.9763 - val_loss: 1.5363 - val_accuracy: 0.8517\n",
            "61/61 [==============================] - 37s 608ms/step - loss: 1.3032 - accuracy: 0.9763 - val_loss: 1.5363 - val_accuracy: 0.8517\n",
            "61/61 [==============================] - 37s 608ms/step - loss: 1.3032 - accuracy: 0.9763 - val_loss: 1.5363 - val_accuracy: 0.8517\n",
            "Epoch 24/30\n",
            "Epoch 24/30\n",
            "Epoch 24/30\n",
            "61/61 [==============================] - 37s 609ms/step - loss: 1.2899 - accuracy: 0.9784 - val_loss: 1.5238 - val_accuracy: 0.8459\n",
            "61/61 [==============================] - 37s 609ms/step - loss: 1.2899 - accuracy: 0.9784 - val_loss: 1.5238 - val_accuracy: 0.8459\n",
            "61/61 [==============================] - 37s 609ms/step - loss: 1.2899 - accuracy: 0.9784 - val_loss: 1.5238 - val_accuracy: 0.8459\n",
            "Epoch 25/30\n",
            "Epoch 25/30\n",
            "Epoch 25/30\n",
            "61/61 [==============================] - 37s 609ms/step - loss: 1.2782 - accuracy: 0.9810 - val_loss: 1.5148 - val_accuracy: 0.8401\n",
            "61/61 [==============================] - 37s 609ms/step - loss: 1.2782 - accuracy: 0.9810 - val_loss: 1.5148 - val_accuracy: 0.8401\n",
            "61/61 [==============================] - 37s 609ms/step - loss: 1.2782 - accuracy: 0.9810 - val_loss: 1.5148 - val_accuracy: 0.8401\n",
            "Epoch 26/30\n",
            "Epoch 26/30\n",
            "Epoch 26/30\n",
            "61/61 [==============================] - 37s 609ms/step - loss: 1.2763 - accuracy: 0.9830 - val_loss: 1.4979 - val_accuracy: 0.8459\n",
            "61/61 [==============================] - 37s 609ms/step - loss: 1.2763 - accuracy: 0.9830 - val_loss: 1.4979 - val_accuracy: 0.8459\n",
            "61/61 [==============================] - 37s 609ms/step - loss: 1.2763 - accuracy: 0.9830 - val_loss: 1.4979 - val_accuracy: 0.8459\n",
            "Epoch 27/30\n",
            "Epoch 27/30\n",
            "Epoch 27/30\n",
            "61/61 [==============================] - 37s 610ms/step - loss: 1.2588 - accuracy: 0.9866 - val_loss: 1.4890 - val_accuracy: 0.8547\n",
            "61/61 [==============================] - 37s 610ms/step - loss: 1.2588 - accuracy: 0.9866 - val_loss: 1.4890 - val_accuracy: 0.8547\n",
            "61/61 [==============================] - 37s 610ms/step - loss: 1.2588 - accuracy: 0.9866 - val_loss: 1.4890 - val_accuracy: 0.8547\n",
            "Epoch 28/30\n",
            "Epoch 28/30\n",
            "Epoch 28/30\n",
            "61/61 [==============================] - 37s 609ms/step - loss: 1.2476 - accuracy: 0.9892 - val_loss: 1.4811 - val_accuracy: 0.8517\n",
            "61/61 [==============================] - 37s 609ms/step - loss: 1.2476 - accuracy: 0.9892 - val_loss: 1.4811 - val_accuracy: 0.8517\n",
            "61/61 [==============================] - 37s 609ms/step - loss: 1.2476 - accuracy: 0.9892 - val_loss: 1.4811 - val_accuracy: 0.8517\n",
            "Epoch 29/30\n",
            "Epoch 29/30\n",
            "Epoch 29/30\n",
            "61/61 [==============================] - 37s 610ms/step - loss: 1.2464 - accuracy: 0.9871 - val_loss: 1.4686 - val_accuracy: 0.8634\n",
            "61/61 [==============================] - 37s 610ms/step - loss: 1.2464 - accuracy: 0.9871 - val_loss: 1.4686 - val_accuracy: 0.8634\n",
            "61/61 [==============================] - 37s 610ms/step - loss: 1.2464 - accuracy: 0.9871 - val_loss: 1.4686 - val_accuracy: 0.8634\n",
            "Epoch 30/30\n",
            "Epoch 30/30\n",
            "Epoch 30/30\n",
            "61/61 [==============================] - 37s 609ms/step - loss: 1.2346 - accuracy: 0.9887 - val_loss: 1.4561 - val_accuracy: 0.8663\n",
            "61/61 [==============================] - 37s 609ms/step - loss: 1.2346 - accuracy: 0.9887 - val_loss: 1.4561 - val_accuracy: 0.8663\n",
            "61/61 [==============================] - 37s 609ms/step - loss: 1.2346 - accuracy: 0.9887 - val_loss: 1.4561 - val_accuracy: 0.8663\n"
          ],
          "name": "stdout"
        }
      ]
    },
    {
      "cell_type": "code",
      "metadata": {
        "colab": {
          "base_uri": "https://localhost:8080/",
          "height": 573
        },
        "id": "oTwt33XLe70E",
        "outputId": "43e8e223-5c8b-4eb1-b5f5-172164855e66"
      },
      "source": [
        "plt.plot(history.history['accuracy'],\"g\",label=\"Training Accuracy\")\n",
        "plt.plot(history.history['val_accuracy'],\"b\",label=\"Validation Accuracy\")\n",
        "plt.title('InceptionV3 Training and Validation accuracy')\n",
        "plt.ylabel('Accuracy')\n",
        "plt.xlabel('Epochs')\n",
        "plt.legend()\n",
        "plt.show()\n",
        "# \"Loss\"\n",
        "plt.plot(history.history['loss'],\"g\",label=\"Training loss\")\n",
        "plt.plot(history.history['val_loss'],\"b\",label=\"Validation loss\")\n",
        "plt.title('InceptionV3 Training and Validation loss')\n",
        "plt.ylabel('loss')\n",
        "plt.xlabel('epoch')\n",
        "plt.legend()\n",
        "plt.show()"
      ],
      "execution_count": null,
      "outputs": [
        {
          "output_type": "display_data",
          "data": {
            "image/png": "[encoded data removed]",
            "text/plain": [
              "<Figure size 432x288 with 1 Axes>"
            ]
          },
          "metadata": {
            "needs_background": "light"
          }
        },
        {
          "output_type": "display_data",
          "data": {
            "image/png": "[encoded data removed]",
            "text/plain": [
              "<Figure size 432x288 with 1 Axes>"
            ]
          },
          "metadata": {
            "needs_background": "light"
          }
        }
      ]
    },
    {
      "cell_type": "code",
      "metadata": {
        "id": "gI0TB_BUHne9"
      },
      "source": [
        "model = tf.keras.models.load_model('/content/drive/MyDrive/latest models/Inception_Model.h5')"
      ],
      "execution_count": null,
      "outputs": []
    },
    {
      "cell_type": "code",
      "metadata": {
        "colab": {
          "base_uri": "https://localhost:8080/"
        },
        "id": "5RT9-1KM8l0V",
        "outputId": "998c59f7-8d59-4baf-afdd-3b3c91dd8087"
      },
      "source": [
        "train_accu = model.evaluate(xtr,ytr)\n",
        "print('The training accuracy is :',train_accu[1]*100, '%')"
      ],
      "execution_count": null,
      "outputs": [
        {
          "output_type": "stream",
          "text": [
            "61/61 [==============================] - 12s 198ms/step - loss: 1.1790 - accuracy: 0.9969\n",
            "The training accuracy is : 99.69120025634766 %\n"
          ],
          "name": "stdout"
        }
      ]
    },
    {
      "cell_type": "code",
      "metadata": {
        "colab": {
          "base_uri": "https://localhost:8080/"
        },
        "id": "tMuzk0Ot8mhA",
        "outputId": "7a1ff89e-14d0-4de4-e078-007e77e09ea4"
      },
      "source": [
        "train_accu = model.evaluate(xte,yte)\n",
        "print('The testing accuracy is :',train_accu[1]*100, '%')"
      ],
      "execution_count": null,
      "outputs": [
        {
          "output_type": "stream",
          "text": [
            "11/11 [==============================] - 7s 328ms/step - loss: 1.4561 - accuracy: 0.8663\n",
            "The testing accuracy is : 86.62790656089783 %\n"
          ],
          "name": "stdout"
        }
      ]
    },
    {
      "cell_type": "markdown",
      "metadata": {
        "id": "R4-ek3L1EHMP"
      },
      "source": [
        "###VGG16 pretrained model with addition of custom layers"
      ]
    },
    {
      "cell_type": "code",
      "metadata": {
        "id": "c7uDLWQDEGD5",
        "colab": {
          "base_uri": "https://localhost:8080/"
        },
        "outputId": "c558ef57-904c-4fb4-aff3-947ce13af80e"
      },
      "source": [
        "from tensorflow.keras.applications import VGG16\n",
        "model = VGG16(include_top=False, input_shape=(224, 224, 3))"
      ],
      "execution_count": null,
      "outputs": [
        {
          "output_type": "stream",
          "text": [
            "Downloading data from https://storage.googleapis.com/tensorflow/keras-applications/vgg16/vgg16_weights_tf_dim_ordering_tf_kernels_notop.h5\n",
            "58892288/58889256 [==============================] - 1s 0us/step\n",
            "58900480/58889256 [==============================] - 1s 0us/step\n"
          ],
          "name": "stdout"
        }
      ]
    },
    {
      "cell_type": "code",
      "metadata": {
        "id": "9irW4iIrE2Ip"
      },
      "source": [
        "model.trainable = True\n",
        "global_average_layer = tf.keras.layers.GlobalAveragePooling2D()(model.output)\n",
        "class1 = Dense(100, activation='relu',kernel_initializer='he_normal',kernel_regularizer=regularizers.l2(l=0.001))(global_average_layer)\n",
        "batch1 = BatchNormalization()(class1)\n",
        "class2 = Dense(100, activation='relu',kernel_constraint=unit_norm())(batch1)\n",
        "batch2 = BatchNormalization()(class2)\n",
        "class3 = Dense(100, activation='relu',kernel_regularizer=regularizers.l2(l=0.01))(batch2)\n",
        "output = Dense(2, activation='softmax')(class3)\n",
        "model = Model(inputs=model.inputs, outputs=output)\n",
        "\n",
        "model.compile(loss = \"categorical_crossentropy\", optimizer = keras.optimizers.Adamax(learning_rate=0.00001), metrics = [\"accuracy\"])"
      ],
      "execution_count": null,
      "outputs": []
    },
    {
      "cell_type": "code",
      "metadata": {
        "id": "4RP4bu3xE2yY",
        "colab": {
          "base_uri": "https://localhost:8080/"
        },
        "outputId": "963c4f53-c458-4f0b-889d-d4d02269206d"
      },
      "source": [
        "history=model.fit(xtr, ytr ,epochs = 20, workers=10, validation_data=(xte, yte),use_multiprocessing=True)"
      ],
      "execution_count": null,
      "outputs": [
        {
          "output_type": "stream",
          "text": [
            "Epoch 1/20\n",
            "61/61 [==============================] - 85s 1s/step - loss: 1.6189 - accuracy: 0.7993 - val_loss: 1.8698 - val_accuracy: 0.5116\n",
            "Epoch 2/20\n",
            "61/61 [==============================] - 52s 851ms/step - loss: 1.4532 - accuracy: 0.9115 - val_loss: 1.8357 - val_accuracy: 0.5116\n",
            "Epoch 3/20\n",
            "61/61 [==============================] - 52s 851ms/step - loss: 1.3894 - accuracy: 0.9336 - val_loss: 1.7621 - val_accuracy: 0.5814\n",
            "Epoch 4/20\n",
            "61/61 [==============================] - 52s 850ms/step - loss: 1.3413 - accuracy: 0.9619 - val_loss: 1.6655 - val_accuracy: 0.8517\n",
            "Epoch 5/20\n",
            "61/61 [==============================] - 52s 850ms/step - loss: 1.3124 - accuracy: 0.9722 - val_loss: 1.5985 - val_accuracy: 0.7907\n",
            "Epoch 6/20\n",
            "61/61 [==============================] - 52s 850ms/step - loss: 1.2907 - accuracy: 0.9794 - val_loss: 1.4770 - val_accuracy: 0.9244\n",
            "Epoch 7/20\n",
            "61/61 [==============================] - 52s 850ms/step - loss: 1.2689 - accuracy: 0.9820 - val_loss: 1.3975 - val_accuracy: 0.9390\n",
            "Epoch 8/20\n",
            "61/61 [==============================] - 52s 850ms/step - loss: 1.2497 - accuracy: 0.9887 - val_loss: 1.3161 - val_accuracy: 0.9680\n",
            "Epoch 9/20\n",
            "61/61 [==============================] - 52s 849ms/step - loss: 1.2351 - accuracy: 0.9913 - val_loss: 1.2999 - val_accuracy: 0.9797\n",
            "Epoch 10/20\n",
            "61/61 [==============================] - 52s 850ms/step - loss: 1.2164 - accuracy: 0.9943 - val_loss: 1.2799 - val_accuracy: 0.9767\n",
            "Epoch 11/20\n",
            "61/61 [==============================] - 52s 850ms/step - loss: 1.2077 - accuracy: 0.9964 - val_loss: 1.2438 - val_accuracy: 0.9797\n",
            "Epoch 12/20\n",
            "61/61 [==============================] - 52s 850ms/step - loss: 1.1950 - accuracy: 0.9979 - val_loss: 1.2644 - val_accuracy: 0.9738\n",
            "Epoch 13/20\n",
            "61/61 [==============================] - 52s 849ms/step - loss: 1.1886 - accuracy: 0.9964 - val_loss: 1.2293 - val_accuracy: 0.9767\n",
            "Epoch 14/20\n",
            "61/61 [==============================] - 52s 850ms/step - loss: 1.1736 - accuracy: 1.0000 - val_loss: 1.2109 - val_accuracy: 0.9826\n",
            "Epoch 15/20\n",
            "61/61 [==============================] - 52s 851ms/step - loss: 1.1650 - accuracy: 0.9995 - val_loss: 1.2030 - val_accuracy: 0.9826\n",
            "Epoch 16/20\n",
            "61/61 [==============================] - 52s 851ms/step - loss: 1.1573 - accuracy: 1.0000 - val_loss: 1.1969 - val_accuracy: 0.9855\n",
            "Epoch 17/20\n",
            "61/61 [==============================] - 52s 851ms/step - loss: 1.1513 - accuracy: 1.0000 - val_loss: 1.1803 - val_accuracy: 0.9884\n",
            "Epoch 18/20\n",
            "61/61 [==============================] - 52s 850ms/step - loss: 1.1487 - accuracy: 0.9985 - val_loss: 1.1980 - val_accuracy: 0.9738\n",
            "Epoch 19/20\n",
            "61/61 [==============================] - 52s 850ms/step - loss: 1.1374 - accuracy: 0.9995 - val_loss: 1.1659 - val_accuracy: 0.9826\n",
            "Epoch 20/20\n",
            "61/61 [==============================] - 52s 851ms/step - loss: 1.1275 - accuracy: 1.0000 - val_loss: 1.1566 - val_accuracy: 0.9884\n"
          ],
          "name": "stdout"
        }
      ]
    },
    {
      "cell_type": "code",
      "metadata": {
        "colab": {
          "base_uri": "https://localhost:8080/",
          "height": 573
        },
        "id": "hto4AOcnINBE",
        "outputId": "13305181-0df8-4775-feea-850add1a0bb7"
      },
      "source": [
        "plt.plot(history.history['accuracy'],\"g\",label=\"Training Accuracy\")\n",
        "plt.plot(history.history['val_accuracy'],\"b\",label=\"Validation Accuracy\")\n",
        "plt.title('InceptionV3 Training and Validation accuracy')\n",
        "plt.ylabel('Accuracy')\n",
        "plt.xlabel('Epochs')\n",
        "plt.legend()\n",
        "plt.show()\n",
        "# \"Loss\"\n",
        "plt.plot(history.history['loss'],\"g\",label=\"Training loss\")\n",
        "plt.plot(history.history['val_loss'],\"b\",label=\"Validation loss\")\n",
        "plt.title('InceptionV3 Training and Validation loss')\n",
        "plt.ylabel('loss')\n",
        "plt.xlabel('epoch')\n",
        "plt.legend()\n",
        "plt.show()"
      ],
      "execution_count": null,
      "outputs": [
        {
          "output_type": "display_data",
          "data": {
            "image/png": "[encoded data removed]",
            "text/plain": [
              "<Figure size 432x288 with 1 Axes>"
            ]
          },
          "metadata": {
            "needs_background": "light"
          }
        },
        {
          "output_type": "display_data",
          "data": {
            "image/png": "[encoded data removed]",
            "text/plain": [
              "<Figure size 432x288 with 1 Axes>"
            ]
          },
          "metadata": {
            "needs_background": "light"
          }
        }
      ]
    },
    {
      "cell_type": "code",
      "metadata": {
        "id": "KPetvcqgFUJg"
      },
      "source": [
        "model.save('VGG16.h5')"
      ],
      "execution_count": null,
      "outputs": []
    },
    {
      "cell_type": "code",
      "metadata": {
        "id": "gayFvB_YITkc"
      },
      "source": [
        "model = tf.keras.models.load_model('/content/drive/MyDrive/latest models/VGG16.h5')"
      ],
      "execution_count": null,
      "outputs": []
    },
    {
      "cell_type": "code",
      "metadata": {
        "colab": {
          "base_uri": "https://localhost:8080/"
        },
        "id": "Y3Zj6d9uIY0W",
        "outputId": "e0f079e5-76df-4919-c2b8-fae68ffa4ef4"
      },
      "source": [
        "train_accu = model.evaluate(xtr,ytr)\n",
        "print('The training accuracy is :',train_accu[1]*100, '%')"
      ],
      "execution_count": null,
      "outputs": [
        {
          "output_type": "stream",
          "text": [
            "61/61 [==============================] - 15s 246ms/step - loss: 1.1142 - accuracy: 1.0000\n",
            "The training accuracy is : 100.0 %\n"
          ],
          "name": "stdout"
        }
      ]
    },
    {
      "cell_type": "code",
      "metadata": {
        "colab": {
          "base_uri": "https://localhost:8080/"
        },
        "id": "yxZEKwRcIaGY",
        "outputId": "8f458101-01d6-41d3-e01e-1095a1fe3195"
      },
      "source": [
        "train_accu = model.evaluate(xte,yte)\n",
        "print('The training accuracy is :',train_accu[1]*100, '%')"
      ],
      "execution_count": null,
      "outputs": [
        {
          "output_type": "stream",
          "text": [
            "11/11 [==============================] - 3s 243ms/step - loss: 1.1566 - accuracy: 0.9884\n",
            "The training accuracy is : 98.83720874786377 %\n"
          ],
          "name": "stdout"
        }
      ]
    },
    {
      "cell_type": "markdown",
      "metadata": {
        "id": "7Hpo8V3TlK4C"
      },
      "source": [
        "## Stacked Ensemble of VGG16, VGG19 and InceptionV3 models"
      ]
    },
    {
      "cell_type": "code",
      "metadata": {
        "colab": {
          "base_uri": "https://localhost:8080/"
        },
        "id": "PgdIQ9wsa7eD",
        "outputId": "8f2d0cb5-cb47-4432-95ed-c0f160abb220"
      },
      "source": [
        "def load_all_models():\n",
        "    all_models = []\n",
        "    model_names = ['/content/drive/MyDrive/latest models/Inception_Model.h5', '/content/drive/MyDrive/latest models/VGG16.h5','/content/drive/MyDrive/latest models/VGG19.h5']\n",
        "    for model_name in model_names:\n",
        "        filename = os.path.join('models', model_name)\n",
        "        model = tf.keras.models.load_model(filename)\n",
        "        all_models.append(model)\n",
        "        print('loaded:', filename)\n",
        "    return all_models\n",
        "models = load_all_models()\n",
        "for i, model in enumerate(models):\n",
        "    for layer in model.layers:\n",
        "        layer.trainable = False\n",
        "        layer._name = 'ensemble_' + str(i+1) + '_' + layer.name"
      ],
      "execution_count": 3,
      "outputs": [
        {
          "output_type": "stream",
          "text": [
            "loaded: /content/drive/MyDrive/latest models/Inception_Model.h5\n",
            "loaded: /content/drive/MyDrive/latest models/VGG16.h5\n",
            "loaded: /content/drive/MyDrive/latest models/VGG19.h5\n"
          ],
          "name": "stdout"
        }
      ]
    },
    {
      "cell_type": "code",
      "metadata": {
        "id": "lvcS9UfFdIgJ"
      },
      "source": [
        "ensemble_visible = [model.input for model in models]\n",
        "ensemble_outputs = [model.output for model in models]\n",
        "merge = tf.keras.layers.concatenate(ensemble_outputs)\n",
        "merge = tf.keras.layers.Dense(2, activation='relu')(merge)\n",
        "output = tf.keras.layers.Dense(2, activation='softmax')(merge)\n",
        "model = tf.keras.models.Model(inputs=ensemble_visible, outputs=output)\n",
        "\n",
        "model.compile(optimizer=tf.keras.optimizers.Adam(learning_rate=0.001), loss=\"categorical_crossentropy\", metrics=[\"accuracy\"])"
      ],
      "execution_count": 4,
      "outputs": []
    },
    {
      "cell_type": "code",
      "metadata": {
        "id": "2yyU_VkYjq05"
      },
      "source": [
        "xtr = [xtr for _ in range(len(model.input))]\n",
        "xte = [xte for _ in range(len(model.input))]"
      ],
      "execution_count": 8,
      "outputs": []
    },
    {
      "cell_type": "code",
      "metadata": {
        "colab": {
          "base_uri": "https://localhost:8080/"
        },
        "id": "TJZRWnC2jxPw",
        "outputId": "301b8b35-5d71-4d07-a149-978b6af2bc78"
      },
      "source": [
        "history=model.fit(xtr, ytr ,epochs = 30, workers=10, validation_data=(xte, yte),use_multiprocessing=True)"
      ],
      "execution_count": 9,
      "outputs": [
        {
          "output_type": "stream",
          "text": [
            "Epoch 1/30\n",
            "61/61 [==============================] - 123s 1s/step - loss: 3.9909 - accuracy: 0.8806 - val_loss: 3.9996 - val_accuracy: 0.8634\n",
            "Epoch 2/30\n",
            "61/61 [==============================] - 51s 832ms/step - loss: 3.9296 - accuracy: 0.9974 - val_loss: 3.9484 - val_accuracy: 0.8837\n",
            "Epoch 3/30\n",
            "61/61 [==============================] - 51s 832ms/step - loss: 3.8633 - accuracy: 0.9985 - val_loss: 3.8925 - val_accuracy: 0.9012\n",
            "Epoch 4/30\n",
            "61/61 [==============================] - 51s 831ms/step - loss: 3.7989 - accuracy: 0.9969 - val_loss: 3.8389 - val_accuracy: 0.9302\n",
            "Epoch 5/30\n",
            "61/61 [==============================] - 51s 831ms/step - loss: 3.7411 - accuracy: 0.9974 - val_loss: 3.7898 - val_accuracy: 0.9390\n",
            "Epoch 6/30\n",
            "61/61 [==============================] - 51s 831ms/step - loss: 3.6918 - accuracy: 0.9985 - val_loss: 3.7469 - val_accuracy: 0.9419\n",
            "Epoch 7/30\n",
            "61/61 [==============================] - 50s 830ms/step - loss: 3.6507 - accuracy: 0.9985 - val_loss: 3.7091 - val_accuracy: 0.9506\n",
            "Epoch 8/30\n",
            "61/61 [==============================] - 51s 830ms/step - loss: 3.6167 - accuracy: 0.9995 - val_loss: 3.6783 - val_accuracy: 0.9506\n",
            "Epoch 9/30\n",
            "61/61 [==============================] - 50s 829ms/step - loss: 3.5885 - accuracy: 0.9995 - val_loss: 3.6525 - val_accuracy: 0.9564\n",
            "Epoch 10/30\n",
            "61/61 [==============================] - 51s 832ms/step - loss: 3.5651 - accuracy: 0.9995 - val_loss: 3.6306 - val_accuracy: 0.9593\n",
            "Epoch 11/30\n",
            "61/61 [==============================] - 51s 832ms/step - loss: 3.5453 - accuracy: 0.9995 - val_loss: 3.6113 - val_accuracy: 0.9651\n",
            "Epoch 12/30\n",
            "61/61 [==============================] - 51s 832ms/step - loss: 3.5285 - accuracy: 1.0000 - val_loss: 3.5947 - val_accuracy: 0.9651\n",
            "Epoch 13/30\n",
            "61/61 [==============================] - 51s 832ms/step - loss: 3.5141 - accuracy: 1.0000 - val_loss: 3.5804 - val_accuracy: 0.9738\n",
            "Epoch 14/30\n",
            "61/61 [==============================] - 51s 832ms/step - loss: 3.5016 - accuracy: 1.0000 - val_loss: 3.5681 - val_accuracy: 0.9738\n",
            "Epoch 15/30\n",
            "61/61 [==============================] - 50s 830ms/step - loss: 3.4907 - accuracy: 1.0000 - val_loss: 3.5576 - val_accuracy: 0.9767\n",
            "Epoch 16/30\n",
            "61/61 [==============================] - 50s 830ms/step - loss: 3.4812 - accuracy: 1.0000 - val_loss: 3.5474 - val_accuracy: 0.9797\n",
            "Epoch 17/30\n",
            "61/61 [==============================] - 50s 830ms/step - loss: 3.4728 - accuracy: 1.0000 - val_loss: 3.5390 - val_accuracy: 0.9797\n",
            "Epoch 18/30\n",
            "61/61 [==============================] - 51s 831ms/step - loss: 3.4654 - accuracy: 1.0000 - val_loss: 3.5313 - val_accuracy: 0.9797\n",
            "Epoch 19/30\n",
            "61/61 [==============================] - 51s 832ms/step - loss: 3.4588 - accuracy: 1.0000 - val_loss: 3.5245 - val_accuracy: 0.9797\n",
            "Epoch 20/30\n",
            "61/61 [==============================] - 51s 832ms/step - loss: 3.4529 - accuracy: 1.0000 - val_loss: 3.5183 - val_accuracy: 0.9797\n",
            "Epoch 21/30\n",
            "61/61 [==============================] - 51s 830ms/step - loss: 3.4475 - accuracy: 1.0000 - val_loss: 3.5126 - val_accuracy: 0.9797\n",
            "Epoch 22/30\n",
            "61/61 [==============================] - 50s 829ms/step - loss: 3.4427 - accuracy: 1.0000 - val_loss: 3.5078 - val_accuracy: 0.9797\n",
            "Epoch 23/30\n",
            "61/61 [==============================] - 50s 829ms/step - loss: 3.4384 - accuracy: 1.0000 - val_loss: 3.5032 - val_accuracy: 0.9767\n",
            "Epoch 24/30\n",
            "61/61 [==============================] - 50s 829ms/step - loss: 3.4345 - accuracy: 1.0000 - val_loss: 3.4990 - val_accuracy: 0.9767\n",
            "Epoch 25/30\n",
            "61/61 [==============================] - 50s 828ms/step - loss: 3.4309 - accuracy: 1.0000 - val_loss: 3.4953 - val_accuracy: 0.9767\n",
            "Epoch 26/30\n",
            "61/61 [==============================] - 50s 829ms/step - loss: 3.4276 - accuracy: 1.0000 - val_loss: 3.4916 - val_accuracy: 0.9767\n",
            "Epoch 27/30\n",
            "61/61 [==============================] - 50s 829ms/step - loss: 3.4246 - accuracy: 1.0000 - val_loss: 3.4885 - val_accuracy: 0.9767\n",
            "Epoch 28/30\n",
            "61/61 [==============================] - 50s 828ms/step - loss: 3.4218 - accuracy: 1.0000 - val_loss: 3.4856 - val_accuracy: 0.9767\n",
            "Epoch 29/30\n",
            "61/61 [==============================] - 50s 829ms/step - loss: 3.4193 - accuracy: 1.0000 - val_loss: 3.4827 - val_accuracy: 0.9797\n",
            "Epoch 30/30\n",
            "61/61 [==============================] - 50s 829ms/step - loss: 3.4169 - accuracy: 1.0000 - val_loss: 3.4802 - val_accuracy: 0.9797\n"
          ],
          "name": "stdout"
        }
      ]
    },
    {
      "cell_type": "code",
      "metadata": {
        "colab": {
          "base_uri": "https://localhost:8080/",
          "height": 573
        },
        "id": "MZKB-5fMHtHa",
        "outputId": "13824882-19af-4e79-d76d-c8d73b64b560"
      },
      "source": [
        "plt.plot(history.history['accuracy'],\"g\",label=\"Training Accuracy\")\n",
        "plt.plot(history.history['val_accuracy'],\"b\",label=\"Validation Accuracy\")\n",
        "plt.title('Ensemble Training and Validation accuracy')\n",
        "plt.ylabel('Accuracy')\n",
        "plt.xlabel('Epochs')\n",
        "plt.legend()\n",
        "plt.show()\n",
        "# \"Loss\"\n",
        "plt.plot(history.history['loss'],\"g\",label=\"Training loss\")\n",
        "plt.plot(history.history['val_loss'],\"b\",label=\"Validation loss\")\n",
        "plt.title('Ensemble Training and Validation loss')\n",
        "plt.ylabel('loss')\n",
        "plt.xlabel('epoch')\n",
        "plt.legend()\n",
        "plt.show()"
      ],
      "execution_count": 10,
      "outputs": [
        {
          "output_type": "display_data",
          "data": {
            "image/png": "[encoded data removed]",
            "text/plain": [
              "<Figure size 432x288 with 1 Axes>"
            ]
          },
          "metadata": {
            "needs_background": "light"
          }
        },
        {
          "output_type": "display_data",
          "data": {
            "image/png": "[encoded data removed]",
            "text/plain": [
              "<Figure size 432x288 with 1 Axes>"
            ]
          },
          "metadata": {
            "needs_background": "light"
          }
        }
      ]
    },
    {
      "cell_type": "code",
      "metadata": {
        "id": "tVs2Pa2_KkKa"
      },
      "source": [
        "model = tf.keras.models.load_model('/content/drive/MyDrive/latest models/PretrainedEnsemble.h5')\n"
      ],
      "execution_count": 5,
      "outputs": []
    },
    {
      "cell_type": "code",
      "metadata": {
        "id": "oraxKUWvMixc"
      },
      "source": [
        "xtr = [xtr for _ in range(len(model.input))]\n",
        "xte = [xte for _ in range(len(model.input))]"
      ],
      "execution_count": 6,
      "outputs": []
    },
    {
      "cell_type": "code",
      "metadata": {
        "id": "7R3P7KN2KalO",
        "colab": {
          "base_uri": "https://localhost:8080/"
        },
        "outputId": "f13d72d7-db6d-4357-e1ec-ba079010ec70"
      },
      "source": [
        "train_accu = model.evaluate(xtr,ytr)\n",
        "print('The training accuracy is :',train_accu[1]*100, '%')"
      ],
      "execution_count": 7,
      "outputs": [
        {
          "output_type": "stream",
          "text": [
            "61/61 [==============================] - 97s 905ms/step - loss: 3.4540 - accuracy: 1.0000\n",
            "The training accuracy is : 100.0 %\n"
          ],
          "name": "stdout"
        }
      ]
    },
    {
      "cell_type": "code",
      "metadata": {
        "id": "fle6FWvPKbuL",
        "colab": {
          "base_uri": "https://localhost:8080/"
        },
        "outputId": "af7450d7-4c78-4e63-82b0-202a01a9ae0d"
      },
      "source": [
        "test_accu = model.evaluate(xte,yte)\n",
        "print('The training accuracy is :',test_accu[1]*100, '%')"
      ],
      "execution_count": 8,
      "outputs": [
        {
          "output_type": "stream",
          "text": [
            "11/11 [==============================] - 20s 2s/step - loss: 3.5170 - accuracy: 0.9767\n",
            "The training accuracy is : 97.67441749572754 %\n"
          ],
          "name": "stdout"
        }
      ]
    }
  ]
}